{
 "cells": [
  {
   "cell_type": "markdown",
   "id": "05f0614d",
   "metadata": {},
   "source": [
    "# importing libraries "
   ]
  },
  {
   "cell_type": "code",
   "execution_count": 1,
   "id": "78636bba",
   "metadata": {},
   "outputs": [],
   "source": [
    "import os\n",
    "import cv2\n",
    "import numpy as np\n",
    "from tqdm import tqdm\n",
    "import torch\n",
    "import torch.nn as nn\n",
    "import torch.nn.functional as F\n",
    "from torch.utils.data import DataLoader\n",
    "#from torchvision import datasets, transforms, models\n",
    "from torchvision.utils import make_grid\n",
    "from torchvision.transforms import Compose, Resize, ToTensor, Normalize\n",
    "import numpy as np\n",
    "import pandas as pd\n",
    "import matplotlib.pyplot as plt\n",
    "%matplotlib inline \n",
    "from torchvision import datasets\n",
    "from pathlib import Path\n",
    "from sklearn import metrics\n",
    "import seaborn as sn\n",
    "import warnings\n",
    "warnings.filterwarnings(\"ignore\")"
   ]
  },
  {
   "cell_type": "markdown",
   "id": "63b5af75",
   "metadata": {},
   "source": [
    "# loading of model"
   ]
  },
  {
   "cell_type": "code",
   "execution_count": null,
   "id": "59f7f6a7",
   "metadata": {},
   "outputs": [],
   "source": [
    " #if model saved\n",
    "import os\n",
    "import torch\n",
    "import pickle\n",
    "ran_before = False   #set to True if already ran before or if you have pickle files with you\n",
    "if (ran_before):\n",
    "    #model trained\n",
    "    mask_detector_cnn = pickle.load(open(\"bias_dataset\\maskdetectorcnn.pkl\", 'rb'))\n",
    "\n",
    "    #for mask dataset\n",
    "    maskDF = pickle.load(open('bias_dataset\\maskDF.pickle', 'rb'))\n",
    "\n",
    "    #validate dfs\n",
    "    validate_dfs = pickle.load(open('bias_dataset/validate_dfs.pkl', 'rb'))\n",
    "    #pickle.dump(validate_dfs, open(\"bias_dataset/validate_dfs.pkl\", 'wb'))\n",
    "\n",
    "    #for dataloader\n",
    "    dataloader = pickle.load(open(\"bias_dataset\\dataloader.pkl\", 'rb'))\n"
   ]
  },
  {
   "cell_type": "markdown",
   "id": "d2feaacf",
   "metadata": {},
   "source": [
    "## for male "
   ]
  },
  {
   "cell_type": "code",
   "execution_count": 2,
   "id": "704b12f9",
   "metadata": {},
   "outputs": [
    {
     "name": "stderr",
     "output_type": "stream",
     "text": [
      "100%|███████████████████████████████████████████████████████████████████████████████| 400/400 [00:00<00:00, 501.71it/s]\n",
      "100%|███████████████████████████████████████████████████████████████████████████████| 400/400 [00:00<00:00, 501.25it/s]\n",
      "100%|███████████████████████████████████████████████████████████████████████████████| 400/400 [00:00<00:00, 508.93it/s]\n",
      "100%|███████████████████████████████████████████████████████████████████████████████| 400/400 [00:00<00:00, 508.25it/s]\n",
      "100%|███████████████████████████████████████████████████████████████████████████████| 600/600 [00:01<00:00, 509.90it/s]\n"
     ]
    }
   ],
   "source": [
    "from pathlib import Path\n",
    "IMG_SIZE = 50\n",
    "#datasetPath = Path('mask_dataset/')\n",
    "male_CLOTH = \"bias_dataset/gender/male/Cloth mask/\"\n",
    "male_N95MASK = \"bias_dataset/gender/male/n95_mask/\"\n",
    "male_SURGICAL = \"bias_dataset/gender/male/surgical_mask/\"\n",
    "male_WITHOUT = \"bias_dataset/gender/male/no_mask/\"\n",
    "male_N95VALVE = \"bias_dataset/gender/male/n95_valve/\"\n",
    "male_maskDF = pd.DataFrame()\n",
    "LABELS = {male_CLOTH: 0, male_N95MASK: 1, male_SURGICAL: 2, male_WITHOUT: 3, male_N95VALVE : 4}\n",
    "training_data = []\n",
    "\n",
    "\n",
    "\n",
    "for label in LABELS:\n",
    "    for f in tqdm(os.listdir(label)):\n",
    "        path = os.path.join(label, f)\n",
    "        #print(path)\n",
    "        male_maskDF = male_maskDF.append(\n",
    "        {\n",
    "            \"image\": str(path),\n",
    "            \"mask\": LABELS[label],\n",
    "            \"gender\": \"Male\",\n",
    "            \"race\": np.nan\n",
    "        }, ignore_index = True)"
   ]
  },
  {
   "cell_type": "markdown",
   "id": "724bd78a",
   "metadata": {},
   "source": [
    "## for female"
   ]
  },
  {
   "cell_type": "code",
   "execution_count": 3,
   "id": "383f4d64",
   "metadata": {},
   "outputs": [
    {
     "name": "stderr",
     "output_type": "stream",
     "text": [
      "100%|███████████████████████████████████████████████████████████████████████████████| 400/400 [00:00<00:00, 514.54it/s]\n",
      "100%|███████████████████████████████████████████████████████████████████████████████| 400/400 [00:00<00:00, 507.13it/s]\n",
      "100%|███████████████████████████████████████████████████████████████████████████████| 400/400 [00:00<00:00, 508.43it/s]\n",
      "100%|███████████████████████████████████████████████████████████████████████████████| 400/400 [00:00<00:00, 508.58it/s]\n",
      "100%|███████████████████████████████████████████████████████████████████████████████| 400/400 [00:00<00:00, 507.09it/s]\n"
     ]
    }
   ],
   "source": [
    "from pathlib import Path\n",
    "IMG_SIZE = 50\n",
    "#datasetPath = Path('mask_dataset/')\n",
    "female_CLOTH = \"bias_dataset/gender/female/Cloth mask/\"\n",
    "female_N95MASK = \"bias_dataset/gender/female/n95_mask/\"\n",
    "female_SURGICAL = \"bias_dataset/gender/female/surgical_mask/\"\n",
    "female_WITHOUT = \"bias_dataset/gender/female/no_mask/\"\n",
    "female_N95VALVE = \"bias_dataset/gender/female/n95_valve/\"\n",
    "female_maskDF = pd.DataFrame()\n",
    "LABELS = {female_CLOTH: 0, female_N95MASK: 1, female_SURGICAL: 2, female_WITHOUT: 3, female_N95VALVE : 4}\n",
    "training_data = []\n",
    "\n",
    "\n",
    "for label in LABELS:\n",
    "    for f in tqdm(os.listdir(label)):\n",
    "        path = os.path.join(label, f)\n",
    "        #print(path)\n",
    "        female_maskDF = female_maskDF.append(\n",
    "        {\n",
    "            \"image\": str(path),\n",
    "            \"mask\": LABELS[label],\n",
    "            \"gender\": \"Female\",\n",
    "            \"race\" : np.nan\n",
    "        }, ignore_index = True)"
   ]
  },
  {
   "cell_type": "markdown",
   "id": "4756f0a8",
   "metadata": {},
   "source": [
    "## for east"
   ]
  },
  {
   "cell_type": "code",
   "execution_count": 4,
   "id": "1ca0558c",
   "metadata": {},
   "outputs": [
    {
     "name": "stderr",
     "output_type": "stream",
     "text": [
      "100%|███████████████████████████████████████████████████████████████████████████████| 400/400 [00:00<00:00, 437.73it/s]\n",
      "100%|███████████████████████████████████████████████████████████████████████████████| 400/400 [00:00<00:00, 430.27it/s]\n",
      "100%|███████████████████████████████████████████████████████████████████████████████| 400/400 [00:00<00:00, 427.12it/s]\n",
      "100%|███████████████████████████████████████████████████████████████████████████████| 400/400 [00:00<00:00, 424.40it/s]\n",
      "100%|███████████████████████████████████████████████████████████████████████████████| 400/400 [00:00<00:00, 424.53it/s]\n"
     ]
    }
   ],
   "source": [
    "from pathlib import Path\n",
    "IMG_SIZE = 50\n",
    "#datasetPath = Path('mask_dataset/')\n",
    "east_CLOTH = \"bias_dataset/race/east/Cloth mask/\"\n",
    "east_N95MASK = \"bias_dataset/race/east/n95_mask/\"\n",
    "east_SURGICAL = \"bias_dataset/race/east/surgical_mask/\"\n",
    "east_WITHOUT = \"bias_dataset/race/east/no_mask/\"\n",
    "east_N95VALVE = \"bias_dataset/race/east/n95_valve/\"\n",
    "east_maskDF = pd.DataFrame()\n",
    "LABELS = {east_CLOTH: 0, east_N95MASK: 1, east_SURGICAL: 2, east_WITHOUT: 3, east_N95VALVE : 4}\n",
    "training_data = []\n",
    "\n",
    "\n",
    "for label in LABELS:\n",
    "    for f in tqdm(os.listdir(label)):\n",
    "        path = os.path.join(label, f)\n",
    "        #print(path)\n",
    "        east_maskDF = east_maskDF.append(\n",
    "        {\n",
    "            \"image\": str(path),\n",
    "            \"mask\": LABELS[label],\n",
    "            \"gender\": np.nan,\n",
    "            \"race\" : \"east\"\n",
    "        }, ignore_index = True)"
   ]
  },
  {
   "cell_type": "markdown",
   "id": "0d6a9b18",
   "metadata": {},
   "source": [
    "# for west "
   ]
  },
  {
   "cell_type": "code",
   "execution_count": 5,
   "id": "e7f5d6c1",
   "metadata": {},
   "outputs": [
    {
     "name": "stderr",
     "output_type": "stream",
     "text": [
      "100%|███████████████████████████████████████████████████████████████████████████████| 400/400 [00:00<00:00, 437.40it/s]\n",
      "100%|███████████████████████████████████████████████████████████████████████████████| 400/400 [00:00<00:00, 429.00it/s]\n",
      "100%|███████████████████████████████████████████████████████████████████████████████| 400/400 [00:00<00:00, 425.27it/s]\n",
      "100%|███████████████████████████████████████████████████████████████████████████████| 400/400 [00:00<00:00, 424.77it/s]\n",
      "100%|███████████████████████████████████████████████████████████████████████████████| 400/400 [00:00<00:00, 421.74it/s]\n"
     ]
    }
   ],
   "source": [
    "from pathlib import Path\n",
    "IMG_SIZE = 50\n",
    "#datasetPath = Path('mask_dataset/')\n",
    "west_CLOTH = \"bias_dataset/race/east/Cloth mask/\"\n",
    "west_N95MASK = \"bias_dataset/race/east/n95_mask/\"\n",
    "west_SURGICAL = \"bias_dataset/race/east/surgical_mask/\"\n",
    "west_WITHOUT = \"bias_dataset/race/east/no_mask/\"\n",
    "west_N95VALVE = \"bias_dataset/race/east/n95_valve/\"\n",
    "west_maskDF = pd.DataFrame()\n",
    "LABELS = {west_CLOTH: 0, west_N95MASK: 1, west_SURGICAL: 2, west_WITHOUT: 3, west_N95VALVE : 4}\n",
    "training_data = []\n",
    "\n",
    "\n",
    "for label in LABELS:\n",
    "    for f in tqdm(os.listdir(label)):\n",
    "        path = os.path.join(label, f)\n",
    "        #print(path)\n",
    "        west_maskDF = west_maskDF.append(\n",
    "        {\n",
    "            \"image\": str(path),\n",
    "            \"mask\": LABELS[label],\n",
    "            \"gender\": np.nan,\n",
    "            \"race\" : \"west\"\n",
    "        }, ignore_index = True)"
   ]
  },
  {
   "cell_type": "markdown",
   "id": "36625686",
   "metadata": {},
   "source": [
    "# appended all dataframes to one"
   ]
  },
  {
   "cell_type": "code",
   "execution_count": 6,
   "id": "495cb8b7",
   "metadata": {},
   "outputs": [],
   "source": [
    "maskDF= pd.DataFrame()\n",
    "all_datasets = [male_maskDF, female_maskDF, east_maskDF, west_maskDF]\n",
    "\n",
    "for df in all_datasets:\n",
    "    maskDF = maskDF.append(df)"
   ]
  },
  {
   "cell_type": "markdown",
   "id": "87796262",
   "metadata": {},
   "source": []
  },
  {
   "cell_type": "code",
   "execution_count": null,
   "id": "116db879",
   "metadata": {},
   "outputs": [],
   "source": []
  },
  {
   "cell_type": "code",
   "execution_count": 7,
   "id": "51e72eb5",
   "metadata": {},
   "outputs": [
    {
     "name": "stdout",
     "output_type": "stream",
     "text": [
      "<class 'pandas.core.frame.DataFrame'>\n",
      "Int64Index: 8200 entries, 0 to 1999\n",
      "Data columns (total 4 columns):\n",
      " #   Column  Non-Null Count  Dtype  \n",
      "---  ------  --------------  -----  \n",
      " 0   gender  4200 non-null   object \n",
      " 1   image   8200 non-null   object \n",
      " 2   mask    8200 non-null   float64\n",
      " 3   race    4000 non-null   object \n",
      "dtypes: float64(1), object(3)\n",
      "memory usage: 320.3+ KB\n"
     ]
    }
   ],
   "source": [
    "maskDF.info()"
   ]
  },
  {
   "cell_type": "markdown",
   "id": "56ec34b9",
   "metadata": {},
   "source": [
    " "
   ]
  },
  {
   "cell_type": "code",
   "execution_count": null,
   "id": "7d7061f4",
   "metadata": {},
   "outputs": [],
   "source": []
  },
  {
   "cell_type": "markdown",
   "id": "bdc45045",
   "metadata": {},
   "source": [
    "# shuffling the dataset"
   ]
  },
  {
   "cell_type": "code",
   "execution_count": 8,
   "id": "33e6d165",
   "metadata": {},
   "outputs": [],
   "source": [
    "maskDF = maskDF.sample(frac = 1)"
   ]
  },
  {
   "cell_type": "code",
   "execution_count": 9,
   "id": "ded0c01b",
   "metadata": {},
   "outputs": [
    {
     "data": {
      "text/html": [
       "<div>\n",
       "<style scoped>\n",
       "    .dataframe tbody tr th:only-of-type {\n",
       "        vertical-align: middle;\n",
       "    }\n",
       "\n",
       "    .dataframe tbody tr th {\n",
       "        vertical-align: top;\n",
       "    }\n",
       "\n",
       "    .dataframe thead th {\n",
       "        text-align: right;\n",
       "    }\n",
       "</style>\n",
       "<table border=\"1\" class=\"dataframe\">\n",
       "  <thead>\n",
       "    <tr style=\"text-align: right;\">\n",
       "      <th></th>\n",
       "      <th>gender</th>\n",
       "      <th>image</th>\n",
       "      <th>mask</th>\n",
       "      <th>race</th>\n",
       "    </tr>\n",
       "  </thead>\n",
       "  <tbody>\n",
       "    <tr>\n",
       "      <th>1500</th>\n",
       "      <td>Male</td>\n",
       "      <td>bias_dataset/gender/male/no_mask/without_mask_...</td>\n",
       "      <td>3.0</td>\n",
       "      <td>NaN</td>\n",
       "    </tr>\n",
       "    <tr>\n",
       "      <th>652</th>\n",
       "      <td>Male</td>\n",
       "      <td>bias_dataset/gender/male/n95_mask/coronavirus-...</td>\n",
       "      <td>1.0</td>\n",
       "      <td>NaN</td>\n",
       "    </tr>\n",
       "    <tr>\n",
       "      <th>676</th>\n",
       "      <td>NaN</td>\n",
       "      <td>bias_dataset/race/east/n95_mask/coronavirus-pr...</td>\n",
       "      <td>1.0</td>\n",
       "      <td>west</td>\n",
       "    </tr>\n",
       "    <tr>\n",
       "      <th>1978</th>\n",
       "      <td>Female</td>\n",
       "      <td>bias_dataset/gender/female/n95_valve/female_ 6...</td>\n",
       "      <td>4.0</td>\n",
       "      <td>NaN</td>\n",
       "    </tr>\n",
       "    <tr>\n",
       "      <th>1447</th>\n",
       "      <td>Female</td>\n",
       "      <td>bias_dataset/gender/female/no_mask/without_mas...</td>\n",
       "      <td>3.0</td>\n",
       "      <td>NaN</td>\n",
       "    </tr>\n",
       "    <tr>\n",
       "      <th>...</th>\n",
       "      <td>...</td>\n",
       "      <td>...</td>\n",
       "      <td>...</td>\n",
       "      <td>...</td>\n",
       "    </tr>\n",
       "    <tr>\n",
       "      <th>659</th>\n",
       "      <td>Female</td>\n",
       "      <td>bias_dataset/gender/female/n95_mask/n95 151.png</td>\n",
       "      <td>1.0</td>\n",
       "      <td>NaN</td>\n",
       "    </tr>\n",
       "    <tr>\n",
       "      <th>228</th>\n",
       "      <td>NaN</td>\n",
       "      <td>bias_dataset/race/east/Cloth mask/with_mask_28...</td>\n",
       "      <td>0.0</td>\n",
       "      <td>east</td>\n",
       "    </tr>\n",
       "    <tr>\n",
       "      <th>388</th>\n",
       "      <td>NaN</td>\n",
       "      <td>bias_dataset/race/east/Cloth mask/with_mask_68...</td>\n",
       "      <td>0.0</td>\n",
       "      <td>west</td>\n",
       "    </tr>\n",
       "    <tr>\n",
       "      <th>1849</th>\n",
       "      <td>NaN</td>\n",
       "      <td>bias_dataset/race/east/n95_valve/n95_valve_ 53...</td>\n",
       "      <td>4.0</td>\n",
       "      <td>west</td>\n",
       "    </tr>\n",
       "    <tr>\n",
       "      <th>866</th>\n",
       "      <td>NaN</td>\n",
       "      <td>bias_dataset/race/east/surgical_mask/1ce705ad2...</td>\n",
       "      <td>2.0</td>\n",
       "      <td>west</td>\n",
       "    </tr>\n",
       "  </tbody>\n",
       "</table>\n",
       "<p>8200 rows × 4 columns</p>\n",
       "</div>"
      ],
      "text/plain": [
       "      gender                                              image  mask  race\n",
       "1500    Male  bias_dataset/gender/male/no_mask/without_mask_...   3.0   NaN\n",
       "652     Male  bias_dataset/gender/male/n95_mask/coronavirus-...   1.0   NaN\n",
       "676      NaN  bias_dataset/race/east/n95_mask/coronavirus-pr...   1.0  west\n",
       "1978  Female  bias_dataset/gender/female/n95_valve/female_ 6...   4.0   NaN\n",
       "1447  Female  bias_dataset/gender/female/no_mask/without_mas...   3.0   NaN\n",
       "...      ...                                                ...   ...   ...\n",
       "659   Female    bias_dataset/gender/female/n95_mask/n95 151.png   1.0   NaN\n",
       "228      NaN  bias_dataset/race/east/Cloth mask/with_mask_28...   0.0  east\n",
       "388      NaN  bias_dataset/race/east/Cloth mask/with_mask_68...   0.0  west\n",
       "1849     NaN  bias_dataset/race/east/n95_valve/n95_valve_ 53...   4.0  west\n",
       "866      NaN  bias_dataset/race/east/surgical_mask/1ce705ad2...   2.0  west\n",
       "\n",
       "[8200 rows x 4 columns]"
      ]
     },
     "execution_count": 9,
     "metadata": {},
     "output_type": "execute_result"
    }
   ],
   "source": [
    "maskDF"
   ]
  },
  {
   "cell_type": "markdown",
   "id": "ca08d6a8",
   "metadata": {},
   "source": [
    "# saving the mask dataframe"
   ]
  },
  {
   "cell_type": "code",
   "execution_count": 10,
   "id": "4b38fe22",
   "metadata": {},
   "outputs": [
    {
     "name": "stdout",
     "output_type": "stream",
     "text": [
      "Saving Dataframe to: bias_dataset/maskDF.pickle\n"
     ]
    }
   ],
   "source": [
    "dftrain = 'bias_dataset/maskDF.pickle'\n",
    "print(f'Saving Dataframe to: {dftrain}')\n",
    "maskDF.to_pickle(dftrain)"
   ]
  },
  {
   "cell_type": "markdown",
   "id": "d9e2dfec",
   "metadata": {},
   "source": [
    "#  train_test_split and train test dataframe dumping"
   ]
  },
  {
   "cell_type": "code",
   "execution_count": 13,
   "id": "1be163a7",
   "metadata": {},
   "outputs": [
    {
     "name": "stdout",
     "output_type": "stream",
     "text": [
      "Saving Dataframe to: bias_dataset/train_dataset.pickle\n",
      "Saving Dataframe to: bias_dataset/test_dataset.pickle\n"
     ]
    }
   ],
   "source": [
    "from sklearn.model_selection import train_test_split\n",
    "train_set, test_set = train_test_split(maskDF, test_size= 0.2, shuffle=True )\n",
    "dftrain = \"bias_dataset/train_dataset.pickle\"\n",
    "print(f'Saving Dataframe to: {dftrain}')\n",
    "train_set.to_pickle(dftrain)  \n",
    "\n",
    "dftest = \"bias_dataset/test_dataset.pickle\"\n",
    "print(f'Saving Dataframe to: {dftest}')\n",
    "test_set.to_pickle(dftest)"
   ]
  },
  {
   "cell_type": "code",
   "execution_count": 14,
   "id": "90a1e48f",
   "metadata": {},
   "outputs": [
    {
     "name": "stdout",
     "output_type": "stream",
     "text": [
      "(6560, 4)\n",
      "(1640, 4)\n"
     ]
    }
   ],
   "source": [
    "print(train_set.shape)\n",
    "print(test_set.shape)"
   ]
  },
  {
   "cell_type": "markdown",
   "id": "8d03c9ba",
   "metadata": {},
   "source": [
    "# preprocessing of our datas"
   ]
  },
  {
   "cell_type": "code",
   "execution_count": 15,
   "id": "bf5c83f6",
   "metadata": {},
   "outputs": [],
   "source": [
    "from PIL import Image\n",
    "import numpy as np\n",
    "from torch import long, tensor\n",
    "from torch.utils.data.dataset import Dataset\n",
    "from torchvision.transforms import Compose, Resize, ToTensor, Normalize\n",
    "\n",
    "class MaskDetectionDataset(Dataset):\n",
    "    def __init__(self, dataFrame):\n",
    "        self.dataFrame = dataFrame\n",
    "        self.transformations = Compose([\n",
    "            Resize((32, 32)),\n",
    "            ToTensor(),\n",
    "            Normalize((0.5667, 0.5198, 0.4955),(0.3082, 0.2988, 0.3053))  #mean, std dev\n",
    "        ])\n",
    "    \n",
    "    def __getitem__(self, key):\n",
    "        \n",
    "        row = self.dataFrame.iloc[key]\n",
    "        image = Image.open(row['image']).convert('RGB')\n",
    "        return {\n",
    "          'image': self.transformations(image),\n",
    "          'mask': tensor([row['mask']], dtype=long),\n",
    "          'path': row['image'] \n",
    "            \n",
    "        }\n",
    "    \n",
    "    def __len__(self):\n",
    "        return len(self.dataFrame.index)"
   ]
  },
  {
   "cell_type": "code",
   "execution_count": 16,
   "id": "936f5e21",
   "metadata": {},
   "outputs": [],
   "source": [
    "import torch\n",
    "import torchvision\n",
    "from torchvision.datasets import ImageFolder\n",
    "def load_data(path):\n",
    "    reshape_size = torchvision.transforms.Resize((32,32))\n",
    "    data_type = torchvision.transforms.ToTensor()\n",
    "    normalized_metrics = torchvision.transforms.Normalize(\n",
    "        (0.5667, 0.5198, 0.4955),(0.3082, 0.2988, 0.3053),\n",
    "    )\n",
    "    return ImageFolder(root = path,transform = torchvision.transforms.Compose([reshape_size, data_type, normalized_metrics]))"
   ]
  },
  {
   "cell_type": "markdown",
   "id": "7349df31",
   "metadata": {},
   "source": [
    "# used CNN using Pytorch"
   ]
  },
  {
   "cell_type": "code",
   "execution_count": 17,
   "id": "8502a9f5",
   "metadata": {},
   "outputs": [
    {
     "name": "stdout",
     "output_type": "stream",
     "text": [
      "MaskDetectorCNN(\n",
      "  (conv_layer): Sequential(\n",
      "    (0): Conv2d(3, 64, kernel_size=(3, 3), stride=(1, 1), padding=(1, 1))\n",
      "    (1): BatchNorm2d(64, eps=1e-05, momentum=0.1, affine=True, track_running_stats=True)\n",
      "    (2): LeakyReLU(negative_slope=0.01, inplace=True)\n",
      "    (3): Conv2d(64, 64, kernel_size=(3, 3), stride=(1, 1), padding=(1, 1))\n",
      "    (4): BatchNorm2d(64, eps=1e-05, momentum=0.1, affine=True, track_running_stats=True)\n",
      "    (5): LeakyReLU(negative_slope=0.01, inplace=True)\n",
      "    (6): MaxPool2d(kernel_size=2, stride=2, padding=0, dilation=1, ceil_mode=False)\n",
      "    (7): Conv2d(64, 128, kernel_size=(3, 3), stride=(1, 1), padding=(1, 1))\n",
      "    (8): BatchNorm2d(128, eps=1e-05, momentum=0.1, affine=True, track_running_stats=True)\n",
      "    (9): LeakyReLU(negative_slope=0.01, inplace=True)\n",
      "    (10): Conv2d(128, 128, kernel_size=(3, 3), stride=(1, 1), padding=(1, 1))\n",
      "    (11): BatchNorm2d(128, eps=1e-05, momentum=0.1, affine=True, track_running_stats=True)\n",
      "    (12): LeakyReLU(negative_slope=0.01, inplace=True)\n",
      "    (13): MaxPool2d(kernel_size=2, stride=2, padding=0, dilation=1, ceil_mode=False)\n",
      "  )\n",
      "  (fc_layer): Sequential(\n",
      "    (0): Dropout(p=0.1, inplace=False)\n",
      "    (1): Linear(in_features=8192, out_features=1600, bias=True)\n",
      "    (2): ReLU(inplace=True)\n",
      "    (3): Linear(in_features=1600, out_features=512, bias=True)\n",
      "    (4): ReLU(inplace=True)\n",
      "    (5): Dropout(p=0.1, inplace=False)\n",
      "    (6): Linear(in_features=512, out_features=5, bias=True)\n",
      "  )\n",
      ")\n"
     ]
    }
   ],
   "source": [
    "import torch\n",
    "import torch.nn.init as init\n",
    "import torch.nn as nn\n",
    "from torch import Tensor\n",
    "from torch.nn import Conv2d\n",
    "from torch.nn import CrossEntropyLoss \n",
    "from torch.nn import Linear\n",
    "from torch.nn import MaxPool2d\n",
    "from torch.nn import ReLU\n",
    "from torch.nn import Sequential\n",
    "from torch.nn import functional\n",
    "                      \n",
    "class MaskDetectorCNN(nn.Module):\n",
    "    def __init__(self):\n",
    "        super(MaskDetectorCNN, self).__init__()\n",
    "        self.conv_layer = nn.Sequential(\n",
    "            nn.Conv2d(in_channels=3, out_channels=64, kernel_size=3, padding=1),\n",
    "            nn.BatchNorm2d(64),\n",
    "            nn.LeakyReLU(inplace=True),\n",
    "            nn.Conv2d(in_channels=64, out_channels=64, kernel_size=3, padding=1),\n",
    "            nn.BatchNorm2d(64),\n",
    "            nn.LeakyReLU(inplace=True),\n",
    "            nn.MaxPool2d(kernel_size=2, stride=2),\n",
    "            nn.Conv2d(in_channels=64, out_channels=128, kernel_size=3, padding=1),\n",
    "            nn.BatchNorm2d(128),\n",
    "            nn.LeakyReLU(inplace=True),\n",
    "            nn.Conv2d(in_channels=128, out_channels=128, kernel_size=3, padding=1),\n",
    "            nn.BatchNorm2d(128),\n",
    "            nn.LeakyReLU(inplace=True),\n",
    "            nn.MaxPool2d(kernel_size=2, stride=2),\n",
    "        )\n",
    "        self.fc_layer = nn.Sequential(\n",
    "            nn.Dropout(p=0.1),\n",
    "            nn.Linear(8 * 8 * 128, 1600), \n",
    "\n",
    "            nn.ReLU(inplace=True),\n",
    "            nn.Linear(1600, 512),\n",
    "            nn.ReLU(inplace=True),\n",
    "            nn.Dropout(p=0.1),\n",
    "            nn.Linear(512, 5)\n",
    "        )\n",
    "    def forward(self, x):\n",
    "        x = self.conv_layer(x)\n",
    "        x = x.view(x.size(0), -1)\n",
    "        x = self.fc_layer(x)\n",
    "        \n",
    "        return x\n",
    "    \n",
    "    \n",
    "mask_detector_cnn = MaskDetectorCNN()\n",
    "print(mask_detector_cnn) \n"
   ]
  },
  {
   "cell_type": "markdown",
   "id": "e838572a",
   "metadata": {},
   "source": [
    "# used k fold cross validation and dataloading"
   ]
  },
  {
   "cell_type": "code",
   "execution_count": 24,
   "id": "b2b67bfa",
   "metadata": {},
   "outputs": [
    {
     "name": "stdout",
     "output_type": "stream",
     "text": [
      "4.0    1444\n",
      "1.0    1291\n",
      "3.0    1288\n",
      "2.0    1269\n",
      "0.0    1268\n",
      "Name: mask, dtype: int64\n"
     ]
    }
   ],
   "source": [
    "from pathlib import Path\n",
    "from typing import Dict, List, Union\n",
    "import pandas as pd\n",
    "import torch\n",
    "import torch.nn.init as init\n",
    "from sklearn.model_selection import train_test_split\n",
    "from sklearn.model_selection import StratifiedKFold\n",
    "from torch import Tensor\n",
    "from torch.nn import Conv2d\n",
    "from torch.nn import CrossEntropyLoss \n",
    "from torch.nn import Linear\n",
    "from torch.nn import MaxPool2d\n",
    "from torch.nn import ReLU\n",
    "from torch.nn import Sequential\n",
    "from torch.nn import functional\n",
    "from torch.optim import Adam\n",
    "from torch.optim.optimizer import Optimizer\n",
    "from torch.utils.data import DataLoader\n",
    "from sklearn.model_selection import train_test_split\n",
    "from torch import Tensor\n",
    "import itertools\n",
    "import matplotlib.pyplot as plt\n",
    "\n",
    "def plot_CNN(cm, classes, normalize=False, title='Confusion Matrix', cmap=plt.cm.Reds):\n",
    "    plt.imshow(cm, interpolation='nearest', cmap=cmap)\n",
    "    plt.title(title)\n",
    "    plt.colorbar()\n",
    "    tick_marks = np.arange(len(classes))\n",
    "    plt.xticks(tick_marks, classes, rotation=42)\n",
    "    plt.yticks(tick_marks, classes)\n",
    "\n",
    "    if normalize:\n",
    "        cm = cm.astype('float') / cm.sum(axis=1)[:, np.newaxis]\n",
    "        print(\"confusion matrix with normalization\")\n",
    "    else:\n",
    "        print('Confusion matrix without normalization')\n",
    "\n",
    "    print(cm)\n",
    "\n",
    "    thresh = cm.max() / 2.\n",
    "    for i, j in itertools.product(range(cm.shape[0]), range(cm.shape[1])):\n",
    "        plt.text(j, i, cm[i, j], horizontalalignment=\"center\", color=\"white\" if cm[i, j] > thresh else \"black\")\n",
    "    \n",
    "    plt.tight_layout()\n",
    "    plt.ylabel('Actual labels')\n",
    "    plt.xlabel('Predicted labels')\n",
    "\n",
    "\"\"\"def prepare_data_CNN(mask_df_path) -> None:\n",
    "        mask_dataframe = pd.read_pickle(mask_df_path)\n",
    "        print(mask_dataframe['mask'].value_counts())\n",
    "        train_set, test_set = train_test_split(maskDF, test_size= 0.2, shuffle=True )   #train test split\n",
    "        return [ MaskDetectionDataset(train_set), MaskDetectionDataset(test_set), CrossEntropyLoss()\n",
    "            ]\n",
    "\"\"\"\n",
    "    \n",
    "def prepare_data_CNN(mask_df_path) -> None:\n",
    "        mask_dataframe = pd.read_pickle(mask_df_path)\n",
    "        print(mask_dataframe['mask'].value_counts())\n",
    "        skf = StratifiedKFold(n_splits=10, shuffle=True)  #k-fold cross validation\n",
    "        train_folds = []\n",
    "        validate_folds = []\n",
    "        for train_index, validate_index in skf.split(mask_dataframe, mask_dataframe['mask']):\n",
    "            train_folds.append(MaskDetectionDataset(mask_dataframe.iloc[train_index]))\n",
    "            validate_folds.append(MaskDetectionDataset(mask_dataframe.iloc[validate_index]))\n",
    "        return [\n",
    "            train_folds, validate_folds,CrossEntropyLoss()\n",
    "            ]\n",
    "\n",
    "def train_dataloader(train_dfs) -> DataLoader:\n",
    "    return DataLoader(train_dfs, batch_size=64, shuffle=True, num_workers=0)\n",
    "\n",
    "def val_dataloader(validate_dfs) -> DataLoader:\n",
    "    return DataLoader(validate_dfs, batch_size=64, num_workers=0)   \n",
    "\n",
    "\n",
    "train_dfs, validate_dfs, cross_entropy_loss = prepare_data_CNN(\"bias_dataset/train_dataset.pickle\")\n"
   ]
  },
  {
   "cell_type": "code",
   "execution_count": 25,
   "id": "1d564eb5",
   "metadata": {},
   "outputs": [],
   "source": [
    "def test_dataloader(dataset):\n",
    "    return DataLoader(dataset=dataset,\n",
    "                      num_workers=2, \n",
    "                      shuffle=True,\n",
    "                      batch_size=100\n",
    "                     )"
   ]
  },
  {
   "cell_type": "markdown",
   "id": "9b89ab15",
   "metadata": {},
   "source": [
    "# dumping validate dataframe"
   ]
  },
  {
   "cell_type": "code",
   "execution_count": 26,
   "id": "8ad40851",
   "metadata": {},
   "outputs": [],
   "source": [
    "import pickle\n",
    "pickle.dump(validate_dfs, open(\"bias_dataset/validate_dfs.pkl\", 'wb'))"
   ]
  },
  {
   "cell_type": "markdown",
   "id": "03f0c68f",
   "metadata": {},
   "source": [
    "# Training our model"
   ]
  },
  {
   "cell_type": "code",
   "execution_count": 27,
   "id": "0613e53d",
   "metadata": {},
   "outputs": [],
   "source": [
    "epochs = 10\n",
    "learning_rate = 0.001 \n",
    "\n",
    "\n",
    "import warnings\n",
    "warnings.filterwarnings('ignore')\n",
    "\n",
    "def training_model(train_fold):\n",
    "    acc_list = []\n",
    "    loss_list = []\n",
    "    optimizer = Adam(mask_detector_cnn.parameters(), lr=learning_rate)\n",
    "    for epoch in range(epochs):\n",
    "        total=0\n",
    "        correct=0\n",
    "        loss_train = 0.0\n",
    "        for i, data in enumerate(train_dataloader(train_fold), 0):\n",
    "            inputs, labels = data['image'], data['mask']\n",
    "            labels = labels.flatten()\n",
    "            outputs = mask_detector_cnn(inputs)\n",
    "            loss = cross_entropy_loss(outputs, labels)\n",
    "            #loss_list.append(loss.item())\n",
    "            optimizer.zero_grad() \n",
    "            loss.backward()\n",
    "            optimizer.step() \n",
    "            \"\"\"loss_train += loss\n",
    "        print('model running')    \n",
    "        print(f'Training Loss after epoch {epoch} :', loss_train)\"\"\"\n",
    "            total += labels.size(0)\n",
    "            _, predicted = torch.max(outputs.data, 1) \n",
    "            correct += (predicted == labels).sum().item() \n",
    "            loss_train += loss\n",
    "        print('Training Loss after epoch {} : {} Accuracy: {:.2f}%'.format(epoch, loss_train,(correct / total) * 100)) \n",
    "        \n",
    "       \n",
    "        \n",
    "#training_model()        "
   ]
  },
  {
   "cell_type": "markdown",
   "id": "5b34470e",
   "metadata": {},
   "source": [
    "# model evaluation"
   ]
  },
  {
   "cell_type": "code",
   "execution_count": 28,
   "id": "c203b09f",
   "metadata": {},
   "outputs": [],
   "source": [
    "from numpy import vstack\n",
    "from sklearn.metrics import accuracy_score, precision_recall_fscore_support, confusion_matrix\n",
    "\n",
    "def evaluate_model(validate_fold):\n",
    "    predictions, actuals = torch.tensor([]), torch.tensor([])\n",
    "    for i, data in enumerate(val_dataloader(validate_fold)):\n",
    "        inputs, targets = data['image'], data['mask']\n",
    "        targets = targets.flatten()\n",
    "        output = mask_detector_cnn(inputs)\n",
    "        output = torch.argmax(output,axis=1)\n",
    "        predictions = torch.cat((predictions, output.flatten()), dim=0)\n",
    "        actuals = torch.cat((actuals, targets), dim=0)\n",
    "\n",
    "    return (confusion_matrix(actuals.numpy(), predictions.numpy()),accuracy_score(actuals, predictions),*precision_recall_fscore_support(actuals.numpy(), predictions.numpy(),average='macro'))"
   ]
  },
  {
   "cell_type": "markdown",
   "id": "4a28fe5a",
   "metadata": {},
   "source": [
    "# checking the accuracy, confusion matrix"
   ]
  },
  {
   "cell_type": "code",
   "execution_count": 29,
   "id": "5370760b",
   "metadata": {},
   "outputs": [
    {
     "name": "stdout",
     "output_type": "stream",
     "text": [
      "Running Fold : 1\n",
      "Training Loss after epoch 0 : 8.886163711547852 Accuracy: 96.87%\n",
      "Training Loss after epoch 1 : 4.982962131500244 Accuracy: 98.26%\n",
      "Training Loss after epoch 2 : 6.051277160644531 Accuracy: 97.82%\n",
      "Training Loss after epoch 3 : 3.5576493740081787 Accuracy: 98.71%\n",
      "Training Loss after epoch 4 : 5.273223400115967 Accuracy: 97.92%\n",
      "Training Loss after epoch 5 : 8.245625495910645 Accuracy: 97.15%\n",
      "Training Loss after epoch 6 : 3.4078903198242188 Accuracy: 98.49%\n",
      "Training Loss after epoch 7 : 1.6189911365509033 Accuracy: 99.27%\n",
      "Training Loss after epoch 8 : 1.2695282697677612 Accuracy: 99.29%\n",
      "Training Loss after epoch 9 : 1.1041265726089478 Accuracy: 99.39%\n",
      "Running Fold : 2\n",
      "Training Loss after epoch 0 : 140.74024963378906 Accuracy: 45.07%\n",
      "Training Loss after epoch 1 : 76.59793853759766 Accuracy: 68.50%\n",
      "Training Loss after epoch 2 : 50.52906036376953 Accuracy: 79.88%\n",
      "Training Loss after epoch 3 : 31.869293212890625 Accuracy: 87.91%\n",
      "Training Loss after epoch 4 : 19.18161964416504 Accuracy: 93.21%\n",
      "Training Loss after epoch 5 : 12.385170936584473 Accuracy: 95.51%\n",
      "Training Loss after epoch 6 : 10.313223838806152 Accuracy: 96.17%\n",
      "Training Loss after epoch 7 : 6.400890827178955 Accuracy: 97.90%\n",
      "Training Loss after epoch 8 : 3.956359624862671 Accuracy: 98.49%\n",
      "Training Loss after epoch 9 : 4.405024528503418 Accuracy: 98.20%\n",
      "Running Fold : 3\n",
      "Training Loss after epoch 0 : 134.04788208007812 Accuracy: 48.49%\n",
      "Training Loss after epoch 1 : 76.13274383544922 Accuracy: 68.61%\n",
      "Training Loss after epoch 2 : 53.28756332397461 Accuracy: 79.23%\n",
      "Training Loss after epoch 3 : 35.33369445800781 Accuracy: 86.64%\n",
      "Training Loss after epoch 4 : 21.888525009155273 Accuracy: 91.48%\n",
      "Training Loss after epoch 5 : 13.609169960021973 Accuracy: 95.11%\n",
      "Training Loss after epoch 6 : 9.642993927001953 Accuracy: 96.36%\n",
      "Training Loss after epoch 7 : 11.325031280517578 Accuracy: 95.95%\n",
      "Training Loss after epoch 8 : 7.0454816818237305 Accuracy: 97.53%\n",
      "Training Loss after epoch 9 : 3.7632529735565186 Accuracy: 98.73%\n",
      "Running Fold : 4\n",
      "Training Loss after epoch 0 : 130.06321716308594 Accuracy: 48.46%\n",
      "Training Loss after epoch 1 : 74.51193237304688 Accuracy: 69.77%\n",
      "Training Loss after epoch 2 : 49.3079833984375 Accuracy: 80.69%\n",
      "Training Loss after epoch 3 : 33.06544494628906 Accuracy: 87.55%\n",
      "Training Loss after epoch 4 : 18.08260154724121 Accuracy: 93.48%\n",
      "Training Loss after epoch 5 : 11.685718536376953 Accuracy: 95.68%\n",
      "Training Loss after epoch 6 : 9.902604103088379 Accuracy: 96.46%\n",
      "Training Loss after epoch 7 : 6.935020446777344 Accuracy: 97.48%\n",
      "Training Loss after epoch 8 : 6.441146373748779 Accuracy: 97.53%\n",
      "Training Loss after epoch 9 : 6.17833948135376 Accuracy: 97.97%\n",
      "Running Fold : 5\n",
      "Training Loss after epoch 0 : 113.6120376586914 Accuracy: 54.45%\n",
      "Training Loss after epoch 1 : 67.42640686035156 Accuracy: 72.93%\n",
      "Training Loss after epoch 2 : 43.91657257080078 Accuracy: 83.15%\n",
      "Training Loss after epoch 3 : 26.963115692138672 Accuracy: 90.01%\n",
      "Training Loss after epoch 4 : 15.742761611938477 Accuracy: 94.26%\n",
      "Training Loss after epoch 5 : 8.955459594726562 Accuracy: 96.68%\n",
      "Training Loss after epoch 6 : 9.145710945129395 Accuracy: 96.66%\n",
      "Training Loss after epoch 7 : 5.320427417755127 Accuracy: 98.27%\n",
      "Training Loss after epoch 8 : 4.533228397369385 Accuracy: 98.44%\n",
      "Training Loss after epoch 9 : 6.630746364593506 Accuracy: 97.75%\n",
      "Running Fold : 6\n",
      "Training Loss after epoch 0 : 124.4577407836914 Accuracy: 51.80%\n",
      "Training Loss after epoch 1 : 66.98442840576172 Accuracy: 72.71%\n",
      "Training Loss after epoch 2 : 43.34662628173828 Accuracy: 83.25%\n",
      "Training Loss after epoch 3 : 24.46541404724121 Accuracy: 90.75%\n",
      "Training Loss after epoch 4 : 15.937787055969238 Accuracy: 93.90%\n",
      "Training Loss after epoch 5 : 9.770953178405762 Accuracy: 96.58%\n",
      "Training Loss after epoch 6 : 8.147258758544922 Accuracy: 97.15%\n",
      "Training Loss after epoch 7 : 6.519495010375977 Accuracy: 97.61%\n",
      "Training Loss after epoch 8 : 5.369847297668457 Accuracy: 97.95%\n",
      "Training Loss after epoch 9 : 2.3451478481292725 Accuracy: 99.14%\n",
      "Running Fold : 7\n",
      "Training Loss after epoch 0 : 130.15029907226562 Accuracy: 50.88%\n",
      "Training Loss after epoch 1 : 76.09292602539062 Accuracy: 69.90%\n",
      "Training Loss after epoch 2 : 51.75302505493164 Accuracy: 79.83%\n",
      "Training Loss after epoch 3 : 33.00862503051758 Accuracy: 87.21%\n",
      "Training Loss after epoch 4 : 18.419586181640625 Accuracy: 93.12%\n",
      "Training Loss after epoch 5 : 12.067294120788574 Accuracy: 95.51%\n",
      "Training Loss after epoch 6 : 7.657449722290039 Accuracy: 97.43%\n",
      "Training Loss after epoch 7 : 8.930427551269531 Accuracy: 97.05%\n",
      "Training Loss after epoch 8 : 6.109453201293945 Accuracy: 97.78%\n",
      "Training Loss after epoch 9 : 6.979743957519531 Accuracy: 97.53%\n",
      "Running Fold : 8\n",
      "Training Loss after epoch 0 : 118.28240966796875 Accuracy: 53.76%\n",
      "Training Loss after epoch 1 : 71.0451889038086 Accuracy: 70.93%\n",
      "Training Loss after epoch 2 : 45.04876708984375 Accuracy: 82.16%\n",
      "Training Loss after epoch 3 : 26.92817497253418 Accuracy: 89.87%\n",
      "Training Loss after epoch 4 : 15.666855812072754 Accuracy: 94.36%\n",
      "Training Loss after epoch 5 : 9.610252380371094 Accuracy: 96.54%\n",
      "Training Loss after epoch 6 : 8.256701469421387 Accuracy: 97.10%\n",
      "Training Loss after epoch 7 : 8.341682434082031 Accuracy: 96.88%\n",
      "Training Loss after epoch 8 : 3.857417583465576 Accuracy: 98.71%\n",
      "Training Loss after epoch 9 : 6.297847747802734 Accuracy: 97.73%\n",
      "Running Fold : 9\n",
      "Training Loss after epoch 0 : 134.09396362304688 Accuracy: 47.26%\n",
      "Training Loss after epoch 1 : 78.5125732421875 Accuracy: 67.78%\n",
      "Training Loss after epoch 2 : 56.17335510253906 Accuracy: 77.34%\n",
      "Training Loss after epoch 3 : 35.552162170410156 Accuracy: 85.98%\n",
      "Training Loss after epoch 4 : 21.687049865722656 Accuracy: 92.09%\n",
      "Training Loss after epoch 5 : 15.630249977111816 Accuracy: 93.97%\n",
      "Training Loss after epoch 6 : 7.549361705780029 Accuracy: 96.95%\n",
      "Training Loss after epoch 7 : 5.280301570892334 Accuracy: 98.29%\n",
      "Training Loss after epoch 8 : 5.36121940612793 Accuracy: 98.04%\n",
      "Training Loss after epoch 9 : 7.413519859313965 Accuracy: 97.31%\n",
      "Running Fold : 10\n",
      "Training Loss after epoch 0 : 123.25917053222656 Accuracy: 51.30%\n",
      "Training Loss after epoch 1 : 71.18083190917969 Accuracy: 71.44%\n",
      "Training Loss after epoch 2 : 48.849586486816406 Accuracy: 81.00%\n",
      "Training Loss after epoch 3 : 28.641862869262695 Accuracy: 88.47%\n",
      "Training Loss after epoch 4 : 17.64988899230957 Accuracy: 93.41%\n",
      "Training Loss after epoch 5 : 12.216673851013184 Accuracy: 95.41%\n",
      "Training Loss after epoch 6 : 7.776608467102051 Accuracy: 97.41%\n",
      "Training Loss after epoch 7 : 10.366534233093262 Accuracy: 96.26%\n",
      "Training Loss after epoch 8 : 7.418881416320801 Accuracy: 97.29%\n",
      "Training Loss after epoch 9 : 3.2744898796081543 Accuracy: 98.97%\n",
      "\n",
      "METRICS\n",
      "ACCURACY     0.970884\n",
      "PRECISION    0.971562\n",
      "RECALL       0.971648\n",
      "F-SCORE      0.971336\n",
      "dtype: float64\n",
      "\n",
      "10-folds cross validation\n",
      "Confusion matrix without normalization\n",
      "[[1.230e+03 1.000e+00 6.000e+00 7.000e+00 2.400e+01]\n",
      " [2.000e+00 1.259e+03 1.000e+01 1.000e+00 1.900e+01]\n",
      " [1.100e+01 5.000e+00 1.248e+03 1.000e+00 4.000e+00]\n",
      " [3.000e+00 2.000e+00 1.000e+00 1.274e+03 8.000e+00]\n",
      " [2.600e+01 3.400e+01 1.600e+01 1.000e+01 1.358e+03]]\n"
     ]
    },
    {
     "data": {
      "image/png": "[encoded data removed]",
      "text/plain": [
       "<Figure size 432x288 with 2 Axes>"
      ]
     },
     "metadata": {
      "needs_background": "light"
     },
     "output_type": "display_data"
    }
   ],
   "source": [
    "fold = []\n",
    "fold_confusion_matrix = np.zeros((5,5))\n",
    "classes = ['CLOTH', 'N95MASK', 'SURGICAL', 'WITHOUT', 'N95VALVE']\n",
    "for index in range(len(train_dfs)):\n",
    "    print(\"Running Fold : \"+ str(index+1))\n",
    "    training_model(train_dfs[index])\n",
    "    result = evaluate_model(validate_dfs[index])\n",
    "    #conf_mat, acc, pre, recall, f-score\n",
    "    fold.append(result[1:-1])\n",
    "    fold_confusion_matrix = np.add(fold_confusion_matrix,result[0])\n",
    "    if index != len(train_dfs)-1:\n",
    "        mask_detector_cnn = MaskDetectorCNN()\n",
    "    \n",
    "metrics_df = pd.DataFrame(fold, columns=['ACCURACY', 'PRECISION', 'RECALL', 'F-SCORE'])\n",
    "print()\n",
    "print(\"METRICS\")\n",
    "print(metrics_df.mean())\n",
    "print()\n",
    "print(\"10-folds cross validation\")\n",
    "plot_CNN(fold_confusion_matrix, classes)"
   ]
  },
  {
   "cell_type": "markdown",
   "id": "93d132ae",
   "metadata": {},
   "source": [
    " "
   ]
  },
  {
   "cell_type": "code",
   "execution_count": null,
   "id": "d4eb6412",
   "metadata": {},
   "outputs": [],
   "source": []
  },
  {
   "cell_type": "code",
   "execution_count": 30,
   "id": "ead2fe5c",
   "metadata": {},
   "outputs": [],
   "source": [
    "def prepare_predict_df():\n",
    "    \n",
    "    testDF = test_set\n",
    "                \n",
    "    return MaskDetectionDataset(testDF)"
   ]
  },
  {
   "cell_type": "code",
   "execution_count": 31,
   "id": "59b7057d",
   "metadata": {},
   "outputs": [
    {
     "data": {
      "text/html": [
       "<div>\n",
       "<style scoped>\n",
       "    .dataframe tbody tr th:only-of-type {\n",
       "        vertical-align: middle;\n",
       "    }\n",
       "\n",
       "    .dataframe tbody tr th {\n",
       "        vertical-align: top;\n",
       "    }\n",
       "\n",
       "    .dataframe thead th {\n",
       "        text-align: right;\n",
       "    }\n",
       "</style>\n",
       "<table border=\"1\" class=\"dataframe\">\n",
       "  <thead>\n",
       "    <tr style=\"text-align: right;\">\n",
       "      <th></th>\n",
       "      <th>gender</th>\n",
       "      <th>image</th>\n",
       "      <th>mask</th>\n",
       "      <th>race</th>\n",
       "    </tr>\n",
       "  </thead>\n",
       "  <tbody>\n",
       "    <tr>\n",
       "      <th>1635</th>\n",
       "      <td>Female</td>\n",
       "      <td>bias_dataset/gender/female/Cloth mask/cloth 12...</td>\n",
       "      <td>0.0</td>\n",
       "      <td>NaN</td>\n",
       "    </tr>\n",
       "    <tr>\n",
       "      <th>1636</th>\n",
       "      <td>Female</td>\n",
       "      <td>bias_dataset/gender/female/Cloth mask/females ...</td>\n",
       "      <td>0.0</td>\n",
       "      <td>NaN</td>\n",
       "    </tr>\n",
       "    <tr>\n",
       "      <th>1637</th>\n",
       "      <td>Male</td>\n",
       "      <td>bias_dataset/gender/male/no_mask/without_mask_...</td>\n",
       "      <td>3.0</td>\n",
       "      <td>NaN</td>\n",
       "    </tr>\n",
       "    <tr>\n",
       "      <th>1638</th>\n",
       "      <td>NaN</td>\n",
       "      <td>bias_dataset/race/east/surgical_mask/with_mask...</td>\n",
       "      <td>2.0</td>\n",
       "      <td>west</td>\n",
       "    </tr>\n",
       "    <tr>\n",
       "      <th>1639</th>\n",
       "      <td>NaN</td>\n",
       "      <td>bias_dataset/race/east/surgical_mask/p60000067...</td>\n",
       "      <td>2.0</td>\n",
       "      <td>east</td>\n",
       "    </tr>\n",
       "  </tbody>\n",
       "</table>\n",
       "</div>"
      ],
      "text/plain": [
       "      gender                                              image  mask  race\n",
       "1635  Female  bias_dataset/gender/female/Cloth mask/cloth 12...   0.0   NaN\n",
       "1636  Female  bias_dataset/gender/female/Cloth mask/females ...   0.0   NaN\n",
       "1637    Male  bias_dataset/gender/male/no_mask/without_mask_...   3.0   NaN\n",
       "1638     NaN  bias_dataset/race/east/surgical_mask/with_mask...   2.0  west\n",
       "1639     NaN  bias_dataset/race/east/surgical_mask/p60000067...   2.0  east"
      ]
     },
     "execution_count": 31,
     "metadata": {},
     "output_type": "execute_result"
    }
   ],
   "source": [
    "test_set = test_set.reset_index(drop=True)\n",
    "test_set.tail()"
   ]
  },
  {
   "cell_type": "markdown",
   "id": "14171d52",
   "metadata": {},
   "source": [
    "# prediction of our model"
   ]
  },
  {
   "cell_type": "code",
   "execution_count": 32,
   "id": "e259cc31",
   "metadata": {},
   "outputs": [
    {
     "name": "stdout",
     "output_type": "stream",
     "text": [
      "Actual : Cloth mask\n",
      "Predicted :CLOTHMASK\n"
     ]
    },
    {
     "data": {
      "image/png": "[encoded data removed]",
      "text/plain": [
       "<Figure size 432x288 with 1 Axes>"
      ]
     },
     "metadata": {
      "needs_background": "light"
     },
     "output_type": "display_data"
    }
   ],
   "source": [
    "import random\n",
    "class_mapping2 = {0: 'CLOTHMASK', 1: 'N95MASK', 2: 'SURGICALMASK', 3: 'WITHOUTMASK', 4: 'N95VALVE'}\n",
    "\n",
    "def prediction_CNN():\n",
    "    test_df = prepare_predict_df()\n",
    "    \n",
    "    rand_ind = random.choice(list(range(0,32)))\n",
    "    rand_sampler = torch.utils.data.RandomSampler(test_df, num_samples=32, replacement=True)\n",
    "    data = iter(DataLoader(test_df, batch_size=32, num_workers=0, sampler=rand_sampler)).next()\n",
    "    inputs,targets = data['image'], data['mask']\n",
    "    output = mask_detector_cnn(inputs)\n",
    "    output = torch.argmax(output,axis=1)\n",
    "    p = data['path'][rand_ind]\n",
    "    partitions = p.split('/')[3]\n",
    "    print(\"Actual :\", partitions)\n",
    "    image = Image.open(data['path'][rand_ind])\n",
    "    plt.imshow(np.asarray(image))\n",
    "    print(\"Predicted :\" + class_mapping2[output[rand_ind].tolist()])\n",
    "\n",
    "    \n",
    "prediction_CNN() "
   ]
  },
  {
   "cell_type": "markdown",
   "id": "a3fbeb50",
   "metadata": {},
   "source": [
    "# dumping"
   ]
  },
  {
   "cell_type": "code",
   "execution_count": 33,
   "id": "4701426e",
   "metadata": {},
   "outputs": [],
   "source": [
    "import pickle\n",
    "pickle.dump(DataLoader, open(\"bias_dataset\\dataloader.pkl\", 'wb'))\n",
    "pickle.dump(mask_detector_cnn, open(\"bias_dataset\\maskdetectorcnn.pkl\", 'wb'))"
   ]
  },
  {
   "cell_type": "code",
   "execution_count": null,
   "id": "ff6bb924",
   "metadata": {},
   "outputs": [],
   "source": []
  },
  {
   "cell_type": "code",
   "execution_count": null,
   "id": "a3eeb835",
   "metadata": {},
   "outputs": [],
   "source": []
  },
  {
   "cell_type": "code",
   "execution_count": 64,
   "id": "54422f8c",
   "metadata": {},
   "outputs": [],
   "source": []
  },
  {
   "cell_type": "markdown",
   "id": "a0680f6a",
   "metadata": {},
   "source": [
    "# image prediction"
   ]
  },
  {
   "cell_type": "code",
   "execution_count": 34,
   "id": "a552fe76",
   "metadata": {},
   "outputs": [],
   "source": [
    "def predict_image(model, image, labels=['Cloth mask', 'n95_mask', 'surgical_mask', 'no_mask', 'n95_valve'], device=\"cpu\"):\n",
    "    \"\"\"\n",
    "    Given an image, predict the class of the image.\n",
    "    \"\"\"\n",
    "    model.eval()\n",
    "    with torch.no_grad():\n",
    "        image = image.to(device)\n",
    "        output = model(image.unsqueeze(0))\n",
    "    pred = output.argmax(dim=1).cpu().numpy()\n",
    "    return labels[pred[0]]"
   ]
  },
  {
   "cell_type": "markdown",
   "id": "bdad8643",
   "metadata": {},
   "source": [
    "## for gender bias"
   ]
  },
  {
   "cell_type": "code",
   "execution_count": 35,
   "id": "03834e0d",
   "metadata": {},
   "outputs": [],
   "source": [
    "import glob\n",
    "import torchvision.transforms as transforms\n",
    "from sklearn.metrics import classification_report, confusion_matrix, ConfusionMatrixDisplay\n",
    "import tqdm\n",
    "def gender_bias(model, data_path, device):\n",
    "    transform = transforms.Compose(\n",
    "            [transforms.ToTensor(),\n",
    "            transforms.Resize((32,32)),\n",
    "            transforms.Normalize(mean=[0.5667, 0.5198, 0.4955], std=[0.3082, 0.2988, 0.3053])] \n",
    "    )\n",
    "    for gender in ['male', 'female']:\n",
    "        preds = []\n",
    "        true = []\n",
    "        print(\"*\"*50)\n",
    "        print(\"Predictions for {} images.\".format(gender))\n",
    "        gender_path = os.path.join(data_path, gender)\n",
    "        for mask in ['Cloth mask', 'n95_mask', 'n95_valve','no_mask', 'surgical_mask' ]:\n",
    "            preds_counts = {\n",
    "                'Cloth mask': 0,\n",
    "                'n95_mask':  0,\n",
    "                'n95_valve':0,\n",
    "                'no_mask': 0,\n",
    "                'surgical_mask': 0\n",
    "                \n",
    "            }\n",
    "            masked_image_path = os.path.join(gender_path, mask, \"*.*\")\n",
    "            files =  glob.glob(masked_image_path)\n",
    "            for image_path in tqdm.tqdm(files, total=len(files)):\n",
    "                image = Image.open(image_path).convert('RGB')\n",
    "                image = transform(image)\n",
    "                pred = predict_image(model, image, device=device)\n",
    "                preds_counts[pred] += 1\n",
    "            for x in preds_counts:\n",
    "                preds.extend([x]*preds_counts[x])\n",
    "            true.extend([mask]*len(files))\n",
    "\n",
    "        print(classification_report(true, preds))\n",
    "        cm = confusion_matrix(true, preds)\n",
    "        print(cm)\n",
    "\n",
    "        #df_cm = pd.DataFrame(cm, index = [i for i in ['Cloth mask', 'N95_mask', 'surgical_mask',\"no_mask\", \"n95_valve\"]], columns = [i for i in ['Cloth mask', 'N95_mask', 'surgical_mask',\"no_mask\", \"n95_valve\"]])\n",
    "        #lst.append(df_cm)\n",
    "        \"\"\"plt.figure(figsize = (10,7))\n",
    "        heat = sn.heatmap(df_cm, annot=True)\n",
    "        plt.xlabel(\"Predicted Values\")\n",
    "        plt.ylabel(\"Actual Values\")\"\"\"\n",
    "        #disp = ConfusionMatrixDisplay(confusion_matrix=cm, display_labels=['Cloth mask', 'n95_mask', 'surgical_mask', 'no_mask', 'n95_valve'])\n",
    "        #disp.plot()\n"
   ]
  },
  {
   "cell_type": "markdown",
   "id": "7112c73b",
   "metadata": {},
   "source": [
    "## for race bias"
   ]
  },
  {
   "cell_type": "code",
   "execution_count": 56,
   "id": "84559f68",
   "metadata": {},
   "outputs": [],
   "source": [
    "import glob\n",
    "import torchvision.transforms as transforms\n",
    "from sklearn.metrics import classification_report, confusion_matrix, ConfusionMatrixDisplay\n",
    "import tqdm\n",
    "def race_bias(model, data_path, device):\n",
    "    transform = transforms.Compose(\n",
    "            [transforms.ToTensor(),\n",
    "            transforms.Resize((32,32)),\n",
    "            transforms.Normalize(mean=[0.5667, 0.5198, 0.4955], std=[0.3082, 0.2988, 0.3053])] \n",
    "    )\n",
    "    for race in ['east', 'west']:\n",
    "        preds = []\n",
    "        true = []\n",
    "        print(\"*\"*1000)\n",
    "        print(\"Predictions for {} images.\".format(race))\n",
    "        race_path = os.path.join(data_path, race)\n",
    "        for mask in ['Cloth mask', 'n95_mask', 'n95_valve','no_mask', 'surgical_mask' ]:\n",
    "            preds_counts = {\n",
    "                'Cloth mask': 0,\n",
    "                'n95_mask':  0,\n",
    "                'n95_valve':0,\n",
    "                'no_mask': 0,\n",
    "                'surgical_mask': 0\n",
    "                \n",
    "            }\n",
    "            masked_image_path = os.path.join(race_path, mask, \"*.*\")\n",
    "            files =  glob.glob(masked_image_path)\n",
    "            for image_path in tqdm.tqdm(files, total=len(files)):\n",
    "                image = Image.open(image_path).convert('RGB')\n",
    "                image = transform(image)\n",
    "                pred = predict_image(model, image, device=device)\n",
    "                preds_counts[pred] += 1\n",
    "            for x in preds_counts:\n",
    "                preds.extend([x]*preds_counts[x])\n",
    "            true.extend([mask]*len(files))\n",
    "\n",
    "        print(classification_report(true, preds))\n",
    "        cm = confusion_matrix(true, preds)\n",
    "        print(cm)\n",
    "\n",
    "        #df_cm = pd.DataFrame(cm, index = [i for i in ['Cloth mask', 'N95_mask', 'surgical_mask',\"no_mask\", \"n95_valve\"]], columns = [i for i in ['Cloth mask', 'N95_mask', 'surgical_mask',\"no_mask\", \"n95_valve\"]])\n",
    "        #lst.append(df_cm)\n",
    "        \"\"\"plt.figure(figsize = (10,7))\n",
    "        heat = sn.heatmap(df_cm, annot=True)\n",
    "        plt.xlabel(\"Predicted Values\")\n",
    "        plt.ylabel(\"Actual Values\")\"\"\"\n",
    "        #disp = ConfusionMatrixDisplay(confusion_matrix=cm, display_labels=['Cloth mask', 'n95_mask', 'surgical_mask', 'no_mask', 'n95_valve'])\n",
    "        #disp.plot()\n"
   ]
  },
  {
   "cell_type": "markdown",
   "id": "3b4877ee",
   "metadata": {},
   "source": [
    "# classification report for gender and race bias"
   ]
  },
  {
   "cell_type": "code",
   "execution_count": 57,
   "id": "a6aa6fdc",
   "metadata": {},
   "outputs": [],
   "source": [
    "\n",
    "if __name__ == \"__main__\":\n",
    "    CFG = {\n",
    "        'race_data_path': 'bias_dataset2/race',\n",
    "        'gender_data_path': 'bias_dataset2\\gender',\n",
    "        'device': 'cuda' if torch.cuda.is_available() else 'cpu',\n",
    "        'model_checkpoints': 'bias_dataset\\maskdetectorcnn.pkl',\n",
    "    }\n",
    "\n",
    "    model = mask_detector_cnn\n",
    "    \n",
    "    "
   ]
  },
  {
   "cell_type": "code",
   "execution_count": 58,
   "id": "13ecb849",
   "metadata": {},
   "outputs": [
    {
     "name": "stderr",
     "output_type": "stream",
     "text": [
      " 34%|███████████████████████████▍                                                     | 22/65 [00:00<00:00, 218.95it/s]"
     ]
    },
    {
     "name": "stdout",
     "output_type": "stream",
     "text": [
      "**************************************************\n",
      "Predictions for male images.\n"
     ]
    },
    {
     "name": "stderr",
     "output_type": "stream",
     "text": [
      "100%|█████████████████████████████████████████████████████████████████████████████████| 65/65 [00:00<00:00, 228.00it/s]\n",
      "100%|███████████████████████████████████████████████████████████████████████████████| 152/152 [00:00<00:00, 221.95it/s]\n",
      "100%|██████████████████████████████████████████████████████████████████████████████████| 65/65 [00:01<00:00, 51.34it/s]\n",
      "100%|█████████████████████████████████████████████████████████████████████████████████| 56/56 [00:00<00:00, 221.75it/s]\n",
      "100%|█████████████████████████████████████████████████████████████████████████████████| 66/66 [00:00<00:00, 240.13it/s]\n",
      " 66%|█████████████████████████████████████████████████████▎                           | 48/73 [00:00<00:00, 235.70it/s]"
     ]
    },
    {
     "name": "stdout",
     "output_type": "stream",
     "text": [
      "               precision    recall  f1-score   support\n",
      "\n",
      "   Cloth mask       1.00      0.92      0.96        65\n",
      "     n95_mask       0.99      0.85      0.91       152\n",
      "    n95_valve       1.00      0.72      0.84        65\n",
      "      no_mask       1.00      0.86      0.92        56\n",
      "surgical_mask       0.55      1.00      0.71        66\n",
      "\n",
      "     accuracy                           0.87       404\n",
      "    macro avg       0.91      0.87      0.87       404\n",
      " weighted avg       0.92      0.87      0.88       404\n",
      "\n",
      "[[ 60   0   0   0   5]\n",
      " [  0 129   0   0  23]\n",
      " [  0   1  47   0  17]\n",
      " [  0   0   0  48   8]\n",
      " [  0   0   0   0  66]]\n",
      "**************************************************\n",
      "Predictions for female images.\n"
     ]
    },
    {
     "name": "stderr",
     "output_type": "stream",
     "text": [
      "100%|█████████████████████████████████████████████████████████████████████████████████| 73/73 [00:00<00:00, 236.18it/s]\n",
      "100%|█████████████████████████████████████████████████████████████████████████████████| 73/73 [00:00<00:00, 217.10it/s]\n",
      "100%|██████████████████████████████████████████████████████████████████████████████████| 74/74 [00:00<00:00, 87.82it/s]\n",
      "100%|█████████████████████████████████████████████████████████████████████████████████| 65/65 [00:00<00:00, 231.04it/s]\n",
      "100%|█████████████████████████████████████████████████████████████████████████████████| 60/60 [00:00<00:00, 228.75it/s]"
     ]
    },
    {
     "name": "stdout",
     "output_type": "stream",
     "text": [
      "               precision    recall  f1-score   support\n",
      "\n",
      "   Cloth mask       0.62      0.95      0.75        73\n",
      "     n95_mask       0.97      0.81      0.88        73\n",
      "    n95_valve       0.93      0.85      0.89        74\n",
      "      no_mask       1.00      0.80      0.89        65\n",
      "surgical_mask       1.00      0.87      0.93        60\n",
      "\n",
      "     accuracy                           0.86       345\n",
      "    macro avg       0.90      0.85      0.87       345\n",
      " weighted avg       0.90      0.86      0.86       345\n",
      "\n",
      "[[69  0  4  0  0]\n",
      " [13 59  1  0  0]\n",
      " [ 9  2 63  0  0]\n",
      " [13  0  0 52  0]\n",
      " [ 8  0  0  0 52]]\n"
     ]
    },
    {
     "name": "stderr",
     "output_type": "stream",
     "text": [
      "\n"
     ]
    }
   ],
   "source": [
    "gender_bias(model, CFG['gender_data_path'], CFG['device'])"
   ]
  },
  {
   "cell_type": "code",
   "execution_count": 52,
   "id": "5d99ed4a",
   "metadata": {},
   "outputs": [
    {
     "name": "stderr",
     "output_type": "stream",
     "text": [
      " 33%|██████████████████████████▌                                                      | 21/64 [00:00<00:00, 208.09it/s]"
     ]
    },
    {
     "name": "stdout",
     "output_type": "stream",
     "text": [
      "**************************************************\n",
      "Predictions for east images.\n"
     ]
    },
    {
     "name": "stderr",
     "output_type": "stream",
     "text": [
      "100%|█████████████████████████████████████████████████████████████████████████████████| 64/64 [00:00<00:00, 225.33it/s]\n",
      "100%|█████████████████████████████████████████████████████████████████████████████████| 64/64 [00:00<00:00, 201.36it/s]\n",
      "100%|█████████████████████████████████████████████████████████████████████████████████| 64/64 [00:00<00:00, 127.01it/s]\n",
      "100%|█████████████████████████████████████████████████████████████████████████████████| 64/64 [00:00<00:00, 235.87it/s]\n",
      "100%|█████████████████████████████████████████████████████████████████████████████████| 64/64 [00:00<00:00, 240.16it/s]\n",
      " 38%|██████████████████████████████▍                                                  | 24/64 [00:00<00:00, 235.51it/s]"
     ]
    },
    {
     "name": "stdout",
     "output_type": "stream",
     "text": [
      "               precision    recall  f1-score   support\n",
      "\n",
      "   Cloth mask       0.57      1.00      0.73        64\n",
      "     n95_mask       1.00      0.78      0.88        64\n",
      "    n95_valve       0.96      0.81      0.88        64\n",
      "      no_mask       1.00      0.81      0.90        64\n",
      "surgical_mask       1.00      0.81      0.90        64\n",
      "\n",
      "     accuracy                           0.84       320\n",
      "    macro avg       0.91      0.84      0.86       320\n",
      " weighted avg       0.91      0.84      0.86       320\n",
      "\n",
      "[[64  0  0  0  0]\n",
      " [12 50  2  0  0]\n",
      " [12  0 52  0  0]\n",
      " [12  0  0 52  0]\n",
      " [12  0  0  0 52]]\n",
      "**************************************************\n",
      "Predictions for west images.\n"
     ]
    },
    {
     "name": "stderr",
     "output_type": "stream",
     "text": [
      "100%|█████████████████████████████████████████████████████████████████████████████████| 64/64 [00:00<00:00, 235.06it/s]\n",
      "100%|█████████████████████████████████████████████████████████████████████████████████| 64/64 [00:00<00:00, 230.73it/s]\n",
      "100%|██████████████████████████████████████████████████████████████████████████████████| 77/77 [00:01<00:00, 47.63it/s]\n",
      "100%|█████████████████████████████████████████████████████████████████████████████████| 64/64 [00:00<00:00, 245.46it/s]\n",
      "100%|█████████████████████████████████████████████████████████████████████████████████| 64/64 [00:00<00:00, 226.02it/s]"
     ]
    },
    {
     "name": "stdout",
     "output_type": "stream",
     "text": [
      "               precision    recall  f1-score   support\n",
      "\n",
      "   Cloth mask       0.55      1.00      0.71        64\n",
      "     n95_mask       0.98      0.81      0.89        64\n",
      "    n95_valve       0.84      0.83      0.84        77\n",
      "      no_mask       1.00      0.81      0.90        64\n",
      "surgical_mask       1.00      0.56      0.72        64\n",
      "\n",
      "     accuracy                           0.80       333\n",
      "    macro avg       0.87      0.80      0.81       333\n",
      " weighted avg       0.87      0.80      0.81       333\n",
      "\n",
      "[[64  0  0  0  0]\n",
      " [12 52  0  0  0]\n",
      " [12  1 64  0  0]\n",
      " [12  0  0 52  0]\n",
      " [16  0 12  0 36]]\n"
     ]
    },
    {
     "name": "stderr",
     "output_type": "stream",
     "text": [
      "\n"
     ]
    }
   ],
   "source": [
    "race_bias(model, CFG['race_data_path'], CFG['device'])"
   ]
  },
  {
   "cell_type": "code",
   "execution_count": null,
   "id": "5135f8ea",
   "metadata": {},
   "outputs": [],
   "source": [
    "\"\"\"lst = []\n",
    "def validate_bias(model, loader, type, metric_flag=1):\n",
    "    total = 0\n",
    "    correct = 0\n",
    "    acc_percent = 0\n",
    "    classes = ['Cloth mask', 'N95_mask', 'surgical_mask',\"no_mask\", \"n95_valve\"]\n",
    "    with torch.no_grad():\n",
    "        for imgs, labels in loader:\n",
    "            outputs = model(imgs)\n",
    "            #print(outputs)\n",
    "            #print(torch.cat(stack))\n",
    "            predicted = (torch.max(outputs, dim = 1)[1]).numpy()\n",
    "            total += labels.shape[0]\n",
    "            correct += int((predicted == labels.numpy()).sum())\n",
    "            if metric_flag:\n",
    "                #print(metrics.confusion_matrix(predicted, labels))\n",
    "                confusion = metrics.confusion_matrix(predicted, labels)\n",
    "                cm_array = metrics.confusion_matrix(predicted, labels)\n",
    "                df_cm = pd.DataFrame(cm_array, index = [i for i in ['Cloth mask', 'N95_mask', 'surgical_mask',\"no_mask\", \"n95_valve\"]], columns = [i for i in ['Cloth mask', 'N95_mask', 'surgical_mask',\"no_mask\", \"n95_valve\"]])\n",
    "                lst.append(df_cm)\n",
    "                #plt.savefig('ConfusionMatrix'+type+'.png')\n",
    "                #print(metrics.classification_report(predicted, labels, target_names=['Cloth mask', 'N95_mask', 'surgical_mask',\"no_mask\", \"n95_valve\"]))\n",
    "                classification = metrics.classification_report(predicted, labels, target_names=['Cloth mask', 'N95_mask', 'surgical_mask',\"no_mask\", \"n95_valve\"])                                  \n",
    "    acc_percent = (correct / total) * 100\n",
    "    \n",
    "    return acc_percent, confusion, classification, lst\"\"\""
   ]
  },
  {
   "cell_type": "code",
   "execution_count": null,
   "id": "7061d633",
   "metadata": {},
   "outputs": [],
   "source": [
    "\"\"\"def biasTest():\n",
    "    #model =  mask_detector_cnn\n",
    "    model = pickle.load(open(\"mask_dataset\\maskdetectorcnn.pkl\", 'rb'))\n",
    "    print(\"\"\"Type of Bias to test:\n",
    "    1. Gender\n",
    "    2. Race \"\"\")\n",
    "    biastype = int(input())\n",
    "    if biastype == 1:\n",
    "        data = \"bias_dataset/gender\"\n",
    "        ##For Male\n",
    "        print(\"-------------------------------------------FOR MALE----------------------------------------\")\n",
    "        print(\"\\n\")\n",
    "        path_male = data + \"/male\"\n",
    "        dataset = load_data(path_male)\n",
    "        \n",
    "        train_b, test_b = train_test_split(dataset, test_size= 0.4, shuffle=True)\n",
    "        test_loader_bias = test_dataloader(test_b)\n",
    "        acc,cm,cl,lst = validate_bias(model, test_loader_bias, \"male\")    #passing our model\n",
    "        print(\"Accuracy for Test Data containing only Males - \", acc)\n",
    "        print(cm)\n",
    "        print(cl)\n",
    "\n",
    "        plt.figure(figsize = (10,7))\n",
    "        heat = sn.heatmap(lst[0], annot=True)\n",
    "        plt.xlabel(\"Predicted Values for male\")\n",
    "        plt.ylabel(\"Actual Values for male\")\n",
    "        \n",
    "        \n",
    "        print(\"-------------------------------------------FOR FEMALE--------------------------------------\")\n",
    "        print(\"\\n\")\n",
    "        path_female = data + \"/female\"\n",
    "        dataset = load_data(path_female)\n",
    "        train_b, test_b = train_test_split(dataset, test_size= 0.4, shuffle=True)\n",
    "        test_loader_bias = test_dataloader(test_b)\n",
    "        acc,cm,cl,lst = validate_bias(model, test_loader_bias, \"female\")\n",
    "        print(\"Accuracy for Test Data containing only Females - \", acc)\n",
    "        print(cm)\n",
    "        print(cl)\n",
    "        plt.figure(figsize = (10,7))\n",
    "        heat = sn.heatmap(lst[1], annot=True)\n",
    "        plt.xlabel(\"Predicted Values for female\")\n",
    "        plt.ylabel(\"Actual Values for female\")\n",
    "        \n",
    "    #if biastype == 2:\n",
    "      \n",
    "    else:\n",
    "        data = \"bias_dataset/race\"\n",
    "        \n",
    "        print(\"-------------------------------------------FOR EASTERN-------------------------------------\")\n",
    "        ##For Eastern\n",
    "        path_east = data + \"/east\"\n",
    "        dataset = load_data(path_east)\n",
    "        train_b, test_b = train_test_split(dataset, test_size= 0.2, shuffle=True)\n",
    "        test_loader_bias = test_dataloader(test_b)\n",
    "        acc,cm,cl,lst = validate_bias(model, test_loader_bias, \"east\")\n",
    "        print(\"Accuracy for Test Data containing only Eastern - \", acc)\n",
    "        print(cm)\n",
    "        print(cl)\n",
    "        plt.figure(figsize = (10,7))\n",
    "        heat = sn.heatmap(lst[2], annot=True)\n",
    "        plt.xlabel(\"Predicted Values for eastern\")\n",
    "        plt.ylabel(\"Actual Values for eastern\")\n",
    "        \n",
    "        \n",
    "        ##For Western\n",
    "        print(\"------------------------------------------FOR WESTERN---------------------------------------\")\n",
    "        path_west = data + \"/west\"\n",
    "        dataset = load_data(path_west)\n",
    "        train_b, test_b = train_test_split(dataset, test_size= 0.2, shuffle=True)\n",
    "        test_loader_bias = test_dataloader(test_b)\n",
    "        acc,cm,cl,lst = validate_bias(model, test_loader_bias, \"west\")\n",
    "        print(\"Accuracy for Test Data containing only Western - \", acc) \n",
    "        print(cm)\n",
    "        print(cl)\n",
    "        plt.figure(figsize = (10,7))\n",
    "        heat = sn.heatmap(lst[3], annot=True)\n",
    "        plt.xlabel(\"Predicted Values for western\")\n",
    "        plt.ylabel(\"Actual Values for western\")\n",
    "        \"\"\""
   ]
  },
  {
   "cell_type": "code",
   "execution_count": null,
   "id": "eb7dff01",
   "metadata": {},
   "outputs": [],
   "source": [
    "#biasTest()"
   ]
  },
  {
   "cell_type": "markdown",
   "id": "10d7b0f1",
   "metadata": {},
   "source": [
    "# for single image predict"
   ]
  },
  {
   "cell_type": "code",
   "execution_count": null,
   "id": "bd12c578",
   "metadata": {},
   "outputs": [],
   "source": [
    "\"\"\"\n",
    "import torchvision.transforms as transforms\n",
    "import torchvision.datasets as datasets\n",
    "from torch.utils.data import DataLoader,Dataset\n",
    "from PIL import Image\n",
    "import matplotlib.pyplot as plt\n",
    "import numpy as np\n",
    "import torchvision\n",
    "class_mapping2 = {0: 'CLOTHMASK', 1: 'N95MASK', 2: 'SURGICALMASK', 3: 'WITHOUTMASK', 4: 'N95VALVE'}\n",
    "class_mapping1 = {CLOTH: 0, N95MASK: 1, SURGICAL: 2, WITHOUT: 3, N95VALVE : 4}\n",
    "\n",
    "def pre_image(image_path,model):\n",
    "    \n",
    "    img = Image.open(image_path)\n",
    "    mean = [0.5667, 0.5198, 0.4955] \n",
    "    std = [0.3082, 0.2988, 0.3053] \n",
    "    transform_norm = transforms.Compose([transforms.ToTensor(), \n",
    "    transforms.Resize((32, 32)),transforms.Normalize(mean, std)])\n",
    "    # get normalized image\n",
    "    img_normalized = transform_norm(img).float()\n",
    "    img_normalized = img_normalized.unsqueeze_(0)\n",
    "\n",
    "    device = torch.device('cuda' if torch.cuda.is_available() else 'cpu')\n",
    "    model = mask_detector_cnn\n",
    "    model = model.to(device)\n",
    "    img_normalized = img_normalized.to(device)\n",
    " \n",
    "    with torch.no_grad():\n",
    "        model.eval()  \n",
    "        output =model(img_normalized)\n",
    "        # print(output)\n",
    "        index = output.data.cpu().numpy().argmax()\n",
    "        plt.imshow(img)\n",
    "        plt.title(f'Prediction: {class_mapping2[index]}')\n",
    "        plt.show()\n",
    "        return index\n",
    "\"\"\""
   ]
  },
  {
   "cell_type": "code",
   "execution_count": null,
   "id": "58044b14",
   "metadata": {},
   "outputs": [],
   "source": [
    "\"\"\"predict_class = pre_image(r\"C:\\Users\\User\\Desktop\\COMP - 6721\\Assignment3_CNN\\mask_dataset\\surgical_mask/0112.png\",mask_detector_cnn)\n",
    "print(predict_class)\"\"\""
   ]
  },
  {
   "cell_type": "code",
   "execution_count": null,
   "id": "071689df",
   "metadata": {},
   "outputs": [],
   "source": []
  },
  {
   "cell_type": "code",
   "execution_count": null,
   "id": "d767094e",
   "metadata": {},
   "outputs": [],
   "source": []
  },
  {
   "cell_type": "code",
   "execution_count": null,
   "id": "e70ba7b6",
   "metadata": {},
   "outputs": [],
   "source": []
  },
  {
   "cell_type": "code",
   "execution_count": null,
   "id": "139a40fe",
   "metadata": {},
   "outputs": [],
   "source": []
  }
 ],
 "metadata": {
  "kernelspec": {
   "display_name": "Python 3",
   "language": "python",
   "name": "python3"
  },
  "language_info": {
   "codemirror_mode": {
    "name": "ipython",
    "version": 3
   },
   "file_extension": ".py",
   "mimetype": "text/x-python",
   "name": "python",
   "nbconvert_exporter": "python",
   "pygments_lexer": "ipython3",
   "version": "3.8.8"
  }
 },
 "nbformat": 4,
 "nbformat_minor": 5
}
