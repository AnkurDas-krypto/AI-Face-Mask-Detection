{
 "cells": [
  {
   "cell_type": "markdown",
   "id": "645ea041",
   "metadata": {},
   "source": [
    "## importing libraries "
   ]
  },
  {
   "cell_type": "code",
   "execution_count": 7,
   "id": "6dc4eceb",
   "metadata": {},
   "outputs": [],
   "source": [
    "import os\n",
    "import cv2\n",
    "import numpy as np\n",
    "from tqdm import tqdm\n",
    "import torch\n",
    "import torch.nn as nn\n",
    "import torch.nn.functional as F\n",
    "from torch.utils.data import DataLoader\n",
    "#from torchvision import datasets, transforms, models\n",
    "from torchvision.utils import make_grid\n",
    "from torchvision.transforms import Compose, Resize, ToTensor, Normalize\n",
    "import numpy as np\n",
    "import pandas as pd\n",
    "import matplotlib.pyplot as plt\n",
    "%matplotlib inline \n",
    "from torchvision import datasets\n",
    "from pathlib import Path\n",
    "\n",
    "import warnings\n",
    "warnings.filterwarnings(\"ignore\")"
   ]
  },
  {
   "cell_type": "markdown",
   "id": "d148b64f",
   "metadata": {},
   "source": [
    "## if model is already ran before then run the fifth and sixth cell and then this cell and finally last cell"
   ]
  },
  {
   "cell_type": "code",
   "execution_count": 8,
   "id": "5e2076b7",
   "metadata": {},
   "outputs": [],
   "source": [
    " #if model saved\n",
    "import os\n",
    "import torch\n",
    "import pickle\n",
    "ran_before = True\n",
    "if (ran_before):\n",
    "    #model trained\n",
    "    mask_detector_cnn = pickle.load(open(\"mask_dataset\\maskdetectorcnn.pkl\", 'rb'))\n",
    "    \n",
    "    #for mask dataset\n",
    "    maskDF = pickle.load(open('mask_dataset\\maskDF.pickle', 'rb'))\n",
    "    \n",
    "    #validate dfs\n",
    "    validate_dfs = pickle.load(open('mask_dataset\\validate_dfs.pickle', 'rb'))\n",
    "\n",
    "\n",
    "    #for dataloader\n",
    "    dataloader = pickle.load(open(\"mask_dataset\\dataloader.pkl\", 'rb'))\n",
    "\n",
    "    "
   ]
  },
  {
   "cell_type": "markdown",
   "id": "832ebaf3",
   "metadata": {},
   "source": [
    "## opening all the mask images folder and making a new dataframe"
   ]
  },
  {
   "cell_type": "code",
   "execution_count": 9,
   "id": "1f8f5a15",
   "metadata": {},
   "outputs": [],
   "source": [
    "from pathlib import Path\n",
    "IMG_SIZE = 50\n",
    "#datasetPath = Path('mask_dataset/')\n",
    "CLOTH = \"mask_dataset/Cloth mask/\"\n",
    "N95MASK = \"mask_dataset/n95_mask/\"\n",
    "SURGICAL = \"mask_dataset/surgical_mask/\"\n",
    "WITHOUT = \"mask_dataset/no_mask/\"\n",
    "N95VALVE = \"mask_dataset/n95_valve/\"\n",
    "#TESTING = \"Dataset/Test\"\n",
    "maskDF = pd.DataFrame()\n",
    "LABELS = {CLOTH: 0, N95MASK: 1, SURGICAL: 2, WITHOUT: 3, N95VALVE : 4}\n",
    "training_data = []"
   ]
  },
  {
   "cell_type": "markdown",
   "id": "dedd8929",
   "metadata": {},
   "source": [
    "### storing all the images of different folders into the maskDF dataframe"
   ]
  },
  {
   "cell_type": "code",
   "execution_count": 10,
   "id": "5f470737",
   "metadata": {},
   "outputs": [
    {
     "name": "stderr",
     "output_type": "stream",
     "text": [
      "100%|███████████████████████████████████████████████████████████████████████████████| 900/900 [00:01<00:00, 507.10it/s]\n",
      "100%|███████████████████████████████████████████████████████████████████████████████| 900/900 [00:01<00:00, 495.76it/s]\n",
      "100%|███████████████████████████████████████████████████████████████████████████████| 900/900 [00:01<00:00, 514.38it/s]\n",
      "100%|███████████████████████████████████████████████████████████████████████████████| 900/900 [00:01<00:00, 501.72it/s]\n",
      "100%|███████████████████████████████████████████████████████████████████████████████| 900/900 [00:01<00:00, 509.00it/s]\n"
     ]
    }
   ],
   "source": [
    "for label in LABELS:\n",
    "    for f in tqdm(os.listdir(label)):\n",
    "        path = os.path.join(label, f)\n",
    "        #print(path)\n",
    "        maskDF = maskDF.append(\n",
    "        {\n",
    "            \"image\": str(path),\n",
    "            \"mask\": LABELS[label]\n",
    "        }, ignore_index = True)"
   ]
  },
  {
   "cell_type": "markdown",
   "id": "9d5191e9",
   "metadata": {},
   "source": [
    "## saving the dataframe into pickle format"
   ]
  },
  {
   "cell_type": "code",
   "execution_count": 11,
   "id": "1ae87416",
   "metadata": {},
   "outputs": [
    {
     "name": "stdout",
     "output_type": "stream",
     "text": [
      "Saving Dataframe to: mask_dataset/maskDF.pickle\n"
     ]
    }
   ],
   "source": [
    "dftrain = 'mask_dataset/maskDF.pickle'\n",
    "print(f'Saving Dataframe to: {dftrain}')\n",
    "maskDF.to_pickle(dftrain)"
   ]
  },
  {
   "cell_type": "markdown",
   "id": "d79d2699",
   "metadata": {},
   "source": [
    "## preprocessing all our datas"
   ]
  },
  {
   "cell_type": "code",
   "execution_count": 12,
   "id": "da3e6d6f",
   "metadata": {},
   "outputs": [],
   "source": [
    "from PIL import Image\n",
    "import numpy as np\n",
    "from torch import long, tensor\n",
    "from torch.utils.data.dataset import Dataset\n",
    "from torchvision.transforms import Compose, Resize, ToTensor, Normalize\n",
    "\n",
    "class MaskDetectionDataset(Dataset):\n",
    "    def __init__(self, dataFrame):\n",
    "        self.dataFrame = dataFrame\n",
    "        self.transformations = Compose([\n",
    "            Resize((32, 32)),\n",
    "            ToTensor(),\n",
    "            Normalize((0.5667, 0.5198, 0.4955),(0.3082, 0.2988, 0.3053))  #mean, std dev\n",
    "        ])\n",
    "    \n",
    "    def __getitem__(self, key):\n",
    "        \n",
    "        row = self.dataFrame.iloc[key]\n",
    "        image = Image.open(row['image']).convert('RGB')\n",
    "        return {\n",
    "          'image': self.transformations(image),\n",
    "          'mask': tensor([row['mask']], dtype=long),\n",
    "          'path': row['image']\n",
    "        }\n",
    "    \n",
    "    def __len__(self):\n",
    "        return len(self.dataFrame.index)"
   ]
  },
  {
   "cell_type": "markdown",
   "id": "2d905dbc",
   "metadata": {},
   "source": [
    "## used CNN using pytorch"
   ]
  },
  {
   "cell_type": "code",
   "execution_count": 13,
   "id": "b22e38ae",
   "metadata": {},
   "outputs": [
    {
     "name": "stdout",
     "output_type": "stream",
     "text": [
      "MaskDetectorCNN(\n",
      "  (conv_layer): Sequential(\n",
      "    (0): Conv2d(3, 64, kernel_size=(3, 3), stride=(1, 1), padding=(1, 1))\n",
      "    (1): BatchNorm2d(64, eps=1e-05, momentum=0.1, affine=True, track_running_stats=True)\n",
      "    (2): LeakyReLU(negative_slope=0.01, inplace=True)\n",
      "    (3): Conv2d(64, 64, kernel_size=(3, 3), stride=(1, 1), padding=(1, 1))\n",
      "    (4): BatchNorm2d(64, eps=1e-05, momentum=0.1, affine=True, track_running_stats=True)\n",
      "    (5): LeakyReLU(negative_slope=0.01, inplace=True)\n",
      "    (6): MaxPool2d(kernel_size=2, stride=2, padding=0, dilation=1, ceil_mode=False)\n",
      "    (7): Conv2d(64, 128, kernel_size=(3, 3), stride=(1, 1), padding=(1, 1))\n",
      "    (8): BatchNorm2d(128, eps=1e-05, momentum=0.1, affine=True, track_running_stats=True)\n",
      "    (9): LeakyReLU(negative_slope=0.01, inplace=True)\n",
      "    (10): Conv2d(128, 128, kernel_size=(3, 3), stride=(1, 1), padding=(1, 1))\n",
      "    (11): BatchNorm2d(128, eps=1e-05, momentum=0.1, affine=True, track_running_stats=True)\n",
      "    (12): LeakyReLU(negative_slope=0.01, inplace=True)\n",
      "    (13): MaxPool2d(kernel_size=2, stride=2, padding=0, dilation=1, ceil_mode=False)\n",
      "  )\n",
      "  (fc_layer): Sequential(\n",
      "    (0): Dropout(p=0.1, inplace=False)\n",
      "    (1): Linear(in_features=8192, out_features=1600, bias=True)\n",
      "    (2): ReLU(inplace=True)\n",
      "    (3): Linear(in_features=1600, out_features=512, bias=True)\n",
      "    (4): ReLU(inplace=True)\n",
      "    (5): Dropout(p=0.1, inplace=False)\n",
      "    (6): Linear(in_features=512, out_features=5, bias=True)\n",
      "  )\n",
      ")\n"
     ]
    }
   ],
   "source": [
    "import torch\n",
    "import torch.nn.init as init\n",
    "import torch.nn as nn\n",
    "from torch import Tensor\n",
    "from torch.nn import Conv2d\n",
    "from torch.nn import CrossEntropyLoss \n",
    "from torch.nn import Linear\n",
    "from torch.nn import MaxPool2d\n",
    "from torch.nn import ReLU\n",
    "from torch.nn import Sequential\n",
    "from torch.nn import functional\n",
    "                      \n",
    "class MaskDetectorCNN(nn.Module):\n",
    "    def __init__(self):\n",
    "        super(MaskDetectorCNN, self).__init__()\n",
    "        super().__init__()\n",
    "        self.conv_layer = nn.Sequential(\n",
    "            nn.Conv2d(in_channels=3, out_channels=64, kernel_size=3, padding=1),\n",
    "            nn.BatchNorm2d(64),\n",
    "            nn.LeakyReLU(inplace=True),\n",
    "            nn.Conv2d(in_channels=64, out_channels=64, kernel_size=3, padding=1),\n",
    "            nn.BatchNorm2d(64),\n",
    "            nn.LeakyReLU(inplace=True),\n",
    "            nn.MaxPool2d(kernel_size=2, stride=2),\n",
    "            nn.Conv2d(in_channels=64, out_channels=128, kernel_size=3, padding=1),\n",
    "            nn.BatchNorm2d(128),\n",
    "            nn.LeakyReLU(inplace=True),\n",
    "            nn.Conv2d(in_channels=128, out_channels=128, kernel_size=3, padding=1),\n",
    "            nn.BatchNorm2d(128),\n",
    "            nn.LeakyReLU(inplace=True),\n",
    "            nn.MaxPool2d(kernel_size=2, stride=2),\n",
    "        )\n",
    "        self.fc_layer = nn.Sequential(\n",
    "            nn.Dropout(p=0.1),\n",
    "            nn.Linear(8 * 8 * 128, 1600), \n",
    "            nn.ReLU(inplace=True),\n",
    "            nn.Linear(1600, 512),\n",
    "            nn.ReLU(inplace=True),\n",
    "            nn.Dropout(p=0.1),\n",
    "            nn.Linear(512, 5)\n",
    "        )\n",
    "    def forward(self, x):\n",
    "        x = self.conv_layer(x)\n",
    "        x = x.view(x.size(0), -1)\n",
    "        x = self.fc_layer(x)\n",
    "        return x\n",
    "    \n",
    "    \n",
    "mask_detector_cnn = MaskDetectorCNN()\n",
    "print(mask_detector_cnn)    "
   ]
  },
  {
   "cell_type": "markdown",
   "id": "32ea18dc",
   "metadata": {},
   "source": [
    "## splitting our dataset into train and test set and plotting of confusion matrix"
   ]
  },
  {
   "cell_type": "code",
   "execution_count": 16,
   "id": "634a1849",
   "metadata": {},
   "outputs": [
    {
     "name": "stdout",
     "output_type": "stream",
     "text": [
      "0.0    900\n",
      "1.0    900\n",
      "4.0    900\n",
      "2.0    900\n",
      "3.0    900\n",
      "Name: mask, dtype: int64\n"
     ]
    }
   ],
   "source": [
    "from pathlib import Path\n",
    "from typing import Dict, List, Union\n",
    "import pandas as pd\n",
    "import torch\n",
    "import torch.nn.init as init\n",
    "from sklearn.model_selection import train_test_split\n",
    "from sklearn.model_selection import StratifiedKFold\n",
    "from torch import Tensor\n",
    "from torch.nn import Conv2d\n",
    "from torch.nn import CrossEntropyLoss \n",
    "from torch.nn import Linear\n",
    "from torch.nn import MaxPool2d\n",
    "from torch.nn import ReLU\n",
    "from torch.nn import Sequential\n",
    "from torch.nn import functional\n",
    "from torch.optim import Adam\n",
    "from torch.optim.optimizer import Optimizer\n",
    "from torch.utils.data import DataLoader\n",
    "from sklearn.model_selection import train_test_split\n",
    "from sklearn.model_selection import StratifiedKFold\n",
    "from torch import Tensor\n",
    "import itertools\n",
    "import matplotlib.pyplot as plt\n",
    "\n",
    "def plot_CNN(cm, classes, normalize=False, title='Confusion Matrix', cmap=plt.cm.Reds):\n",
    "    plt.imshow(cm, interpolation='nearest', cmap=cmap)\n",
    "    plt.title(title)\n",
    "    plt.colorbar()\n",
    "    tick_marks = np.arange(len(classes))\n",
    "    plt.xticks(tick_marks, classes, rotation=42)\n",
    "    plt.yticks(tick_marks, classes)\n",
    "\n",
    "    if normalize:\n",
    "        cm = cm.astype('float') / cm.sum(axis=1)[:, np.newaxis]\n",
    "        print(\"confusion matrix with normalization\")\n",
    "    else:\n",
    "        print('Confusion matrix without normalization')\n",
    "\n",
    "    print(cm)\n",
    "\n",
    "    thresh = cm.max() / 2.\n",
    "    for i, j in itertools.product(range(cm.shape[0]), range(cm.shape[1])):\n",
    "        plt.text(j, i, cm[i, j], horizontalalignment=\"center\", color=\"white\" if cm[i, j] > thresh else \"black\")\n",
    "    \n",
    "    plt.tight_layout()\n",
    "    plt.ylabel('Actual labels')\n",
    "    plt.xlabel('Predicted labels')\n",
    "\n",
    "def prepare_data_CNN(mask_df_path) -> None:\n",
    "        mask_dataframe = pd.read_pickle(mask_df_path)\n",
    "        print(mask_dataframe['mask'].value_counts())\n",
    "        train_set, test_set = train_test_split(maskDF, test_size= 0.2, shuffle=True )   #train test split\n",
    "        return [ MaskDetectionDataset(train_set), MaskDetectionDataset(test_set), CrossEntropyLoss()\n",
    "            ]\n",
    "\n",
    "def train_dataloader(train_dfs) -> DataLoader:\n",
    "    return DataLoader(train_dfs, batch_size=64, shuffle=True, num_workers=0)\n",
    "\n",
    "def val_dataloader(validate_dfs) -> DataLoader:\n",
    "    return DataLoader(validate_dfs, batch_size=64, num_workers=0)   \n",
    "\n",
    "\n",
    "train_dfs, validate_dfs, cross_entropy_loss = prepare_data_CNN(\"mask_dataset/maskDF.pickle\")\n"
   ]
  },
  {
   "cell_type": "markdown",
   "id": "bbb87bd8",
   "metadata": {},
   "source": [
    "## dumping validate_df"
   ]
  },
  {
   "cell_type": "code",
   "execution_count": 18,
   "id": "47baa8fa",
   "metadata": {},
   "outputs": [],
   "source": [
    "import pickle\n",
    "pickle.dump(validate_dfs, open(\"mask_dataset/validate_dfs.pkl\", 'wb'))"
   ]
  },
  {
   "cell_type": "markdown",
   "id": "aafca2cf",
   "metadata": {},
   "source": [
    "## training our model"
   ]
  },
  {
   "cell_type": "code",
   "execution_count": 19,
   "id": "ea7eb9dd",
   "metadata": {},
   "outputs": [
    {
     "name": "stdout",
     "output_type": "stream",
     "text": [
      "model running\n",
      "Training Loss after epoch 0 : tensor(105.3838, grad_fn=<AddBackward0>)\n",
      "model running\n",
      "Training Loss after epoch 1 : tensor(68.8293, grad_fn=<AddBackward0>)\n",
      "model running\n",
      "Training Loss after epoch 2 : tensor(61.4399, grad_fn=<AddBackward0>)\n",
      "model running\n",
      "Training Loss after epoch 3 : tensor(58.6462, grad_fn=<AddBackward0>)\n",
      "model running\n",
      "Training Loss after epoch 4 : tensor(53.1027, grad_fn=<AddBackward0>)\n",
      "model running\n",
      "Training Loss after epoch 5 : tensor(48.4461, grad_fn=<AddBackward0>)\n",
      "model running\n",
      "Training Loss after epoch 6 : tensor(45.1528, grad_fn=<AddBackward0>)\n",
      "model running\n",
      "Training Loss after epoch 7 : tensor(39.1049, grad_fn=<AddBackward0>)\n",
      "model running\n",
      "Training Loss after epoch 8 : tensor(33.0868, grad_fn=<AddBackward0>)\n",
      "model running\n",
      "Training Loss after epoch 9 : tensor(24.8334, grad_fn=<AddBackward0>)\n",
      "model running\n",
      "Training Loss after epoch 10 : tensor(19.3443, grad_fn=<AddBackward0>)\n",
      "model running\n",
      "Training Loss after epoch 11 : tensor(16.9563, grad_fn=<AddBackward0>)\n",
      "model running\n",
      "Training Loss after epoch 12 : tensor(13.9029, grad_fn=<AddBackward0>)\n",
      "model running\n",
      "Training Loss after epoch 13 : tensor(10.9352, grad_fn=<AddBackward0>)\n",
      "model running\n",
      "Training Loss after epoch 14 : tensor(8.7911, grad_fn=<AddBackward0>)\n"
     ]
    }
   ],
   "source": [
    "epochs = 15\n",
    "learning_rate = 0.001 \n",
    "\n",
    "\n",
    "import warnings\n",
    "warnings.filterwarnings('ignore')\n",
    "\n",
    "def training_model():\n",
    "    acc_list = []\n",
    "    loss_list = []\n",
    "    optimizer = Adam(mask_detector_cnn.parameters(), lr=learning_rate)\n",
    "    for epoch in range(epochs):\n",
    "        total=0\n",
    "        correct=0\n",
    "        loss_train = 0.0\n",
    "        for i, data in enumerate(train_dataloader(train_dfs), 0):\n",
    "            inputs, labels = data['image'], data['mask']\n",
    "            labels = labels.flatten()\n",
    "            outputs = mask_detector_cnn(inputs)\n",
    "            loss = cross_entropy_loss(outputs, labels)\n",
    "            #loss_list.append(loss.item())\n",
    "            optimizer.zero_grad() \n",
    "            loss.backward()\n",
    "            optimizer.step() \n",
    "            loss_train += loss\n",
    "        print('model running')    \n",
    "        print(f'Training Loss after epoch {epoch} :', loss_train)\n",
    "        \n",
    "training_model()        "
   ]
  },
  {
   "cell_type": "markdown",
   "id": "b00116e9",
   "metadata": {},
   "source": [
    "# evaluating our model and showing classification report"
   ]
  },
  {
   "cell_type": "code",
   "execution_count": 20,
   "id": "f48790bf",
   "metadata": {},
   "outputs": [
    {
     "name": "stdout",
     "output_type": "stream",
     "text": [
      "              precision    recall  f1-score   support\n",
      "\n",
      "       CLOTH       0.83      0.57      0.67       185\n",
      "     N95MASK       0.80      0.90      0.85       192\n",
      "    SURGICAL       0.75      0.68      0.71       192\n",
      "     WITHOUT       0.91      0.91      0.91       164\n",
      "    N95VALVE       0.67      0.89      0.76       167\n",
      "\n",
      "    accuracy                           0.78       900\n",
      "   macro avg       0.79      0.79      0.78       900\n",
      "weighted avg       0.79      0.78      0.78       900\n",
      "\n",
      "Confusion matrix without normalization\n",
      "[[105  15  22  11  32]\n",
      " [  4 172   7   0   9]\n",
      " [ 12  19 130   3  28]\n",
      " [  1   0   8 150   5]\n",
      " [  5   8   6   0 148]]\n"
     ]
    },
    {
     "data": {
      "image/png": "[encoded data removed]",
      "text/plain": [
       "<Figure size 432x288 with 2 Axes>"
      ]
     },
     "metadata": {
      "needs_background": "light"
     },
     "output_type": "display_data"
    }
   ],
   "source": [
    "from numpy import vstack\n",
    "from sklearn.metrics import confusion_matrix\n",
    "from sklearn.metrics import accuracy_score, precision_recall_fscore_support\n",
    "from sklearn.metrics import accuracy_score, f1_score, precision_score, recall_score, classification_report, confusion_matrix\n",
    "\n",
    "\n",
    "def model_evaluation(validate_dfs):\n",
    "    predictions, actuals = torch.tensor([]), torch.tensor([])\n",
    "    for i, data in enumerate(val_dataloader(validate_dfs)):\n",
    "        inputs, targets = data['image'], data['mask']\n",
    "        targets = targets.flatten()\n",
    "        output = mask_detector_cnn(inputs)\n",
    "        output = torch.argmax(output,axis=1)\n",
    "        predictions = torch.cat((predictions, output.flatten()), dim=0) #Concatenates the given sequence of seq tensors in the given dimension\n",
    "        actuals = torch.cat((actuals, targets), dim=0)\n",
    "        \n",
    "    classes = ['CLOTH', 'N95MASK','SURGICAL', 'WITHOUT', 'N95VALVE']\n",
    "    print(classification_report(actuals.cpu(), predictions.cpu(), digits=2, target_names=classes))\n",
    "    confusion_mat = confusion_matrix(actuals.cpu().numpy(), predictions.cpu().numpy())\n",
    "    plot_CNN(confusion_mat, classes)\n",
    "        \n",
    "\n",
    "\n",
    "\n",
    "model_evaluation(validate_dfs)"
   ]
  },
  {
   "cell_type": "markdown",
   "id": "93d63db6",
   "metadata": {},
   "source": [
    "## prediction of our model "
   ]
  },
  {
   "cell_type": "code",
   "execution_count": 21,
   "id": "2cff1ec9",
   "metadata": {},
   "outputs": [
    {
     "name": "stdout",
     "output_type": "stream",
     "text": [
      "mask_dataset/Cloth mask/334.jpg\n",
      "Predicted :CLOTHMASK\n"
     ]
    },
    {
     "data": {
      "image/png": "[encoded data removed]",
      "text/plain": [
       "<Figure size 432x288 with 1 Axes>"
      ]
     },
     "metadata": {
      "needs_background": "light"
     },
     "output_type": "display_data"
    }
   ],
   "source": [
    "import random\n",
    "class_mapping2 = {0: 'CLOTHMASK', 1: 'N95MASK', 2: 'SURGICALMASK', 3: 'WITHOUTMASK', 4: 'N95VALVE'}\n",
    "\n",
    "def prediction_CNN():\n",
    "    #test_df = prepare_predict_df()\n",
    "    \n",
    "    rand_ind = random.choice(list(range(0,32)))\n",
    "    rand_sampler = torch.utils.data.RandomSampler(validate_dfs, num_samples=32, replacement=True)\n",
    "    data = iter(DataLoader(validate_dfs, batch_size=32, num_workers=0, sampler=rand_sampler)).next()\n",
    "    inputs,targets = data['image'], data['mask']\n",
    "    output = mask_detector_cnn(inputs)\n",
    "    output = torch.argmax(output,axis=1)\n",
    "    print(data['path'][rand_ind])\n",
    "    image = Image.open(data['path'][rand_ind])\n",
    "    plt.imshow(np.asarray(image))\n",
    "    print(\"Predicted :\" + class_mapping2[output[rand_ind].tolist()])\n",
    "\n",
    "    \n",
    "prediction_CNN() "
   ]
  },
  {
   "cell_type": "markdown",
   "id": "0df2fa58",
   "metadata": {},
   "source": [
    "## dumping our DataLoader and CNN model"
   ]
  },
  {
   "cell_type": "code",
   "execution_count": 23,
   "id": "179dc717",
   "metadata": {},
   "outputs": [],
   "source": [
    "import pickle\n",
    "pickle.dump(DataLoader, open(\"mask_dataset\\dataloader.pkl\", 'wb'))\n",
    "pickle.dump(MaskDetectorCNN(), open(\"mask_dataset\\maskdetectorcnn.pkl\", 'wb'))"
   ]
  },
  {
   "cell_type": "code",
   "execution_count": null,
   "id": "aa660b92",
   "metadata": {},
   "outputs": [],
   "source": []
  }
 ],
 "metadata": {
  "kernelspec": {
   "display_name": "Python 3",
   "language": "python",
   "name": "python3"
  },
  "language_info": {
   "codemirror_mode": {
    "name": "ipython",
    "version": 3
   },
   "file_extension": ".py",
   "mimetype": "text/x-python",
   "name": "python",
   "nbconvert_exporter": "python",
   "pygments_lexer": "ipython3",
   "version": "3.8.8"
  }
 },
 "nbformat": 4,
 "nbformat_minor": 5
}
